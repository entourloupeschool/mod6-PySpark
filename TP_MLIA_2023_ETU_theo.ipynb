{
  "cells": [
    {
      "cell_type": "markdown",
      "metadata": {
        "id": "CNLvEQbhnAfQ"
      },
      "source": [
        "### Notebook TP API DataFrame de Spark en Python - MLIA\n"
      ]
    },
    {
      "cell_type": "markdown",
      "metadata": {
        "id": "dyCVqQlunV8W"
      },
      "source": [
        "Le but du TP est d'utilisert l'API Dataframe de Spark en Python.\n",
        "Pour la documentation à consulter, suivre ce li:\n",
        "* https://spark.apache.org/docs/latest/sql-programming-guide.html\n",
        "\n",
        "* Consulter également les fichiers contenus dans le répertoire **aide-python-spark** sur google drive"
      ]
    },
    {
      "cell_type": "markdown",
      "metadata": {
        "id": "QB62Es6hnpiS"
      },
      "source": [
        "## Rappel de quelques fonctions"
      ]
    },
    {
      "cell_type": "markdown",
      "metadata": {
        "id": "5XVwIYt9nqYY"
      },
      "source": [
        "|Expression |Action|\n",
        "|:-------------:|:-------------:|\n",
        "|val ds = spark.read.format(\"csv\").option(\"header\", \"true\").option(\"inferSchema\", \"true\").load(\"/path/file.csv\") |loads the content of file.csv into a dataset ds by indicting that it contains a header  and by requesting  Spark to infer the schema |\n",
        "|ds.printSchema | show the schema of ds |\n",
        "|ds.show(truncate=false)|shows the first 20 rows without truncating the values |\n",
        "|ds.describe().show()|collects and shows descriptive statistics (mean, max, count, ..) of numeric values|\n",
        "|ds.select(\"c1\", \"c2\", ..., \"cn\")|projects ds on the columns c1, …, cn|\n",
        "|ds.withColumnRenamed(\"c1\",\"c2\")|renames the column c1 with c2|\n",
        "|ds.where(cond)|selects the rows respecting cond|\n",
        "|ds.groupBy(\"c1\").agg(collect_list($\"c2\") as \"values\")|groups the rows by column c1 and creates an new column of values associated to those of c1|\n",
        "|ds.groupBy(\"c1\").agg(avg(\"c2\"))|computes the sum of c2 for each c1 |\n",
        "|ds.withColumn(\"new\", Exp)|creates a new column whose values are computed by Exp|\n",
        "|ds1.crossJoin(ds2)|computes the cross product of ds1 and ds2|\n",
        "|ds1.join(ds2, \"c\") |joins ds1 and ds2 on the column c|\n",
        "|ds1.join(ds2, Seq(\"c1\",...,\"cn\")) |generalizes the previous one to a sequence of columns c1,…, cn|"
      ]
    },
    {
      "cell_type": "markdown",
      "metadata": {
        "id": "UMeKjDd0oCYf"
      },
      "source": [
        "## Préparation\n",
        "\n",
        "*   ***Vérifier que des ressources*** de calcul sont allouées à votre notebook est\n",
        "connecté (cf RAM de disque indiqués en haut à droite) . Sinon cliquer sur le bouton connecter pour obtenir des ressources.\n",
        "\n",
        "*   ***Créer le répertoire*** pour stocker les fichiers nécessaires sur votre google\n",
        "drive (donnez l'autorisation au notebook d'accéder à votre drive lorsque c'est demandé). *Ajuster le nom de votre dossier* : **MyDrive/mlia/TP**"
      ]
    },
    {
      "cell_type": "markdown",
      "metadata": {
        "id": "Ae_B1zwQo7I5"
      },
      "source": [
        "***Installer pyspark et findspark :***"
      ]
    },
    {
      "cell_type": "code",
      "execution_count": 1,
      "metadata": {
        "id": "IC5tPyk4o7u1",
        "colab": {
          "base_uri": "https://localhost:8080/"
        },
        "outputId": "1221130f-63fa-48b5-8e2e-682013aed8a6"
      },
      "outputs": [
        {
          "output_type": "stream",
          "name": "stdout",
          "text": [
            "\u001b[2K     \u001b[90m━━━━━━━━━━━━━━━━━━━━━━━━━━━━━━━━━━━━━━━\u001b[0m \u001b[32m310.8/310.8 MB\u001b[0m \u001b[31m3.3 MB/s\u001b[0m eta \u001b[36m0:00:00\u001b[0m\n",
            "\u001b[?25h  Preparing metadata (setup.py) ... \u001b[?25l\u001b[?25hdone\n",
            "  Building wheel for pyspark (setup.py) ... \u001b[?25l\u001b[?25hdone\n"
          ]
        }
      ],
      "source": [
        "!pip install -q pyspark\n",
        "!pip install -q findspark"
      ]
    },
    {
      "cell_type": "markdown",
      "metadata": {
        "id": "DXNYQGxgpCmX"
      },
      "source": [
        "***Démarrer la session spark:***"
      ]
    },
    {
      "cell_type": "code",
      "execution_count": 2,
      "metadata": {
        "id": "vZZ5Kb0XpDNj",
        "colab": {
          "base_uri": "https://localhost:8080/"
        },
        "outputId": "51c7fe1e-68da-4cf1-8a54-1ebc774d1c37"
      },
      "outputs": [
        {
          "output_type": "stream",
          "name": "stdout",
          "text": [
            "/usr/local/lib/python3.10/dist-packages/pyspark\n",
            "/usr/local/lib/python3.10/dist-packages/pyspark/python/pyspark\n",
            "/usr/local/lib/python3.10/dist-packages/pyspark/bin/pyspark\n",
            "/usr/local/bin/pyspark\n"
          ]
        }
      ],
      "source": [
        "import os\n",
        "!find /usr/local -name \"pyspark\"\n",
        "os.environ[\"SPARK_HOME\"] = \"/usr/local/lib/python3.10/dist-packages/pyspark\"\n",
        "os.environ[\"JAVA_HOME\"] = \"/usr\""
      ]
    },
    {
      "cell_type": "code",
      "execution_count": 3,
      "metadata": {
        "id": "pDYo99KQpKjl",
        "colab": {
          "base_uri": "https://localhost:8080/"
        },
        "outputId": "09e0627e-b6c3-4300-8455-798f28623645"
      },
      "outputs": [
        {
          "output_type": "stream",
          "name": "stdout",
          "text": [
            "session démarrée, son id est  local-1687255176424\n"
          ]
        }
      ],
      "source": [
        "# Principaux import\n",
        "import findspark\n",
        "from pyspark.sql import SparkSession\n",
        "from pyspark import SparkConf\n",
        "\n",
        "# pour les dataframe et udf\n",
        "from pyspark.sql import *\n",
        "from pyspark.sql.functions import *\n",
        "from pyspark.sql.types import *\n",
        "from datetime import *\n",
        "\n",
        "# pour le chronomètre\n",
        "import time\n",
        "\n",
        "# initialise les variables d'environnement pour spark\n",
        "findspark.init()\n",
        "\n",
        "# Démarrage session spark\n",
        "# --------------------------\n",
        "def demarrer_spark():\n",
        "  local = \"local[*]\"\n",
        "  appName = \"TP\"\n",
        "  configLocale = SparkConf().setAppName(appName).setMaster(local).\\\n",
        "  set(\"spark.executor.memory\", \"6G\").\\\n",
        "  set(\"spark.driver.memory\",\"6G\").\\\n",
        "  set(\"spark.sql.catalogImplementation\",\"in-memory\")\n",
        "\n",
        "  spark = SparkSession.builder.config(conf = configLocale).getOrCreate()\n",
        "  sc = spark.sparkContext\n",
        "  sc.setLogLevel(\"ERROR\")\n",
        "\n",
        "  spark.conf.set(\"spark.sql.autoBroadcastJoinThreshold\",\"-1\")\n",
        "\n",
        "  # On ajuste l'environnement d'exécution des requêtes à la taille du cluster (4 coeurs)\n",
        "  spark.conf.set(\"spark.sql.shuffle.partitions\",\"4\")\n",
        "  print(\"session démarrée, son id est \", sc.applicationId)\n",
        "  return spark\n",
        "spark = demarrer_spark()"
      ]
    },
    {
      "cell_type": "markdown",
      "metadata": {
        "id": "CN8TjTZ2nAfW"
      },
      "source": [
        "## Lire un fichier et le transformer en DataFrame\n",
        "  - lire le fichier films.json\n",
        "  - afficher le schéma\n",
        "  - afficher les colonnes (attributs)\n",
        "  - afficher le contenu (3 films)\n",
        "  - afficher le nombre de films\n",
        "  - décrire la colonne nF (fonction describe())\n",
        "  - afficher des statistiques sur la table films (fonction summary)"
      ]
    },
    {
      "cell_type": "code",
      "execution_count": 4,
      "metadata": {
        "id": "Mvc7_WbW1r4o",
        "colab": {
          "base_uri": "https://localhost:8080/"
        },
        "outputId": "e78089ad-929a-4aae-dce7-3d90d5cc7551"
      },
      "outputs": [
        {
          "output_type": "stream",
          "name": "stdout",
          "text": [
            "URL pour les données:  https://nuage.lip6.fr/s/H3bpyRGgnCq2NR4\n"
          ]
        }
      ],
      "source": [
        "# URL du dossier contenant des fichiers de données (data.csv et meta.csv) utiles pour le TP\n",
        "# ---------------------------------------------------------------------------\n",
        "# en cas de problème avec le téléchargement des datasets, aller directement sur l'URL ci-dessous\n",
        "PUBLIC_DATASET_URL = \"https://nuage.lip6.fr/s/H3bpyRGgnCq2NR4\"\n",
        "PUBLIC_DATASET=PUBLIC_DATASET_URL + \"/download?path=\"\n",
        "\n",
        "print(\"URL pour les données: \", PUBLIC_DATASET_URL)"
      ]
    },
    {
      "cell_type": "code",
      "execution_count": 5,
      "metadata": {
        "id": "4OG1nScf1zO2",
        "colab": {
          "base_uri": "https://localhost:8080/"
        },
        "outputId": "82f5c345-9c6d-4520-f21a-0202aa51c3f0"
      },
      "outputs": [
        {
          "output_type": "stream",
          "name": "stdout",
          "text": [
            "downloading from URL:  https://nuage.lip6.fr/s/H3bpyRGgnCq2NR4/download?path=/movielens/films.json save in : /content/sample_data/films.json\n",
            "downloading from URL:  https://nuage.lip6.fr/s/H3bpyRGgnCq2NR4/download?path=/movielens/notesAMJ.csv save in : /content/sample_data/notesAMJ.csv\n",
            "downloading from URL:  https://nuage.lip6.fr/s/H3bpyRGgnCq2NR4/download?path=/movielens/ml-latest-small/ratings.csv save in : /content/sample_data/ratings.csv\n",
            "Fichiers téléchargés:\n"
          ]
        },
        {
          "output_type": "execute_result",
          "data": {
            "text/plain": [
              "['anscombe.json',\n",
              " 'README.md',\n",
              " 'notesAMJ.csv',\n",
              " 'ratings.csv',\n",
              " 'films.json',\n",
              " 'mnist_train_small.csv',\n",
              " 'mnist_test.csv',\n",
              " 'california_housing_test.csv',\n",
              " 'california_housing_train.csv']"
            ]
          },
          "metadata": {},
          "execution_count": 5
        }
      ],
      "source": [
        "import os\n",
        "from urllib import request\n",
        "\n",
        "import os\n",
        "from urllib import request\n",
        "\n",
        "drive_dir = \"/content/sample_data/\"\n",
        "\n",
        "def load_file(file,dir):\n",
        "  if(os.path.isfile(drive_dir+file)):\n",
        "    print(file, \"is already stored\")\n",
        "  else:\n",
        "    url = PUBLIC_DATASET + \"/\"+ dir + \"/\" + file\n",
        "    print(\"downloading from URL: \", url, \"save in : \" + drive_dir   + file)\n",
        "    request.urlretrieve(url , drive_dir + file)\n",
        "\n",
        "load_file(\"films.json\", \"movielens\")\n",
        "load_file(\"notesAMJ.csv\", \"movielens\")\n",
        "load_file(\"ratings.csv\", \"movielens/ml-latest-small\")\n",
        "\n",
        "# Liste des fichiers téléchargés\n",
        "print(\"Fichiers téléchargés:\")\n",
        "os.listdir(drive_dir)"
      ]
    },
    {
      "cell_type": "code",
      "execution_count": 6,
      "metadata": {
        "id": "47sVXC_74in5"
      },
      "outputs": [],
      "source": [
        "#Le dossier contenant les fichiers csv importés:\n",
        "DATASET_DIR=\"/content/sample_data/\""
      ]
    },
    {
      "cell_type": "markdown",
      "metadata": {
        "id": "l8E96oHT2pxH"
      },
      "source": [
        "## Lire le fichier films.json et créer le DataFrame films"
      ]
    },
    {
      "cell_type": "code",
      "execution_count": 7,
      "metadata": {
        "id": "GG88wAzpnAfY",
        "colab": {
          "base_uri": "https://localhost:8080/"
        },
        "outputId": "45d20c58-41b4-4cf1-d143-4cf2b430493a"
      },
      "outputs": [
        {
          "output_type": "stream",
          "name": "stdout",
          "text": [
            "Lecture du fichier:  /content/sample_data//films.json\n"
          ]
        }
      ],
      "source": [
        "#Lire le fichier films.json et création d'un Dataframe films (fonction spark.read.json)\n",
        "#==============\n",
        "# Données\n",
        "#==============\n",
        "print(\"Lecture du fichier: \", DATASET_DIR+\"/films.json\")\n",
        "films = spark.read.json(DATASET_DIR+\"/films.json\")"
      ]
    },
    {
      "cell_type": "code",
      "execution_count": 8,
      "metadata": {
        "id": "rnHX1GRlnAfZ",
        "colab": {
          "base_uri": "https://localhost:8080/"
        },
        "outputId": "06a4cebf-4761-4e23-c7bf-07e8f08023a4"
      },
      "outputs": [
        {
          "output_type": "stream",
          "name": "stdout",
          "text": [
            "root\n",
            " |-- g: array (nullable = true)\n",
            " |    |-- element: string (containsNull = true)\n",
            " |-- nF: long (nullable = true)\n",
            " |-- titre: string (nullable = true)\n",
            "\n"
          ]
        }
      ],
      "source": [
        "#Afficher le schéma obtenu\n",
        "films.printSchema()\n",
        "#résultat:\n",
        "#root\n",
        "# |-- g: array (nullable = true)\n",
        "# |    |-- element: string (containsNull = true)\n",
        "# |-- nF: long (nullable = true)\n",
        "# |-- titre: string (nullable = true)"
      ]
    },
    {
      "cell_type": "code",
      "execution_count": 9,
      "metadata": {
        "id": "T-b3IEccnAfZ",
        "colab": {
          "base_uri": "https://localhost:8080/"
        },
        "outputId": "ace6653b-c018-4968-a3cd-a08f972807e8"
      },
      "outputs": [
        {
          "output_type": "execute_result",
          "data": {
            "text/plain": [
              "['g', 'nF', 'titre']"
            ]
          },
          "metadata": {},
          "execution_count": 9
        }
      ],
      "source": [
        "#Afficher les noms des colonnes\n",
        "films.columns\n",
        "#résultat:\n",
        "#['g', 'nF', 'titre']"
      ]
    },
    {
      "cell_type": "code",
      "execution_count": 10,
      "metadata": {
        "id": "VFmpjrCGnAfZ",
        "colab": {
          "base_uri": "https://localhost:8080/"
        },
        "outputId": "93b6d767-2b2c-4c96-f191-d6e24aebed89"
      },
      "outputs": [
        {
          "output_type": "stream",
          "name": "stdout",
          "text": [
            "+--------------------+------+--------------------+\n",
            "|                   g|    nF|               titre|\n",
            "+--------------------+------+--------------------+\n",
            "|             [Drama]|  8754|Prime of Miss Jea...|\n",
            "|          [Thriller]|111486|Lesson of the Evi...|\n",
            "|[Animation, Child...|  1033|Fox and the Hound...|\n",
            "+--------------------+------+--------------------+\n",
            "only showing top 3 rows\n",
            "\n"
          ]
        }
      ],
      "source": [
        "#Afficher 3 lignes de la structure films (fonction show)\n",
        "films.show(3)"
      ]
    },
    {
      "cell_type": "markdown",
      "metadata": {
        "id": "o4vSfRrwknFb"
      },
      "source": [
        "Résultat:\n",
        "\n",
        "```\n",
        "+--------------------+------+--------------------+\n",
        "|                   g|    nF|               titre|\n",
        "+--------------------+------+--------------------+\n",
        "|             [Drama]|  8754|Prime of Miss Jea...|\n",
        "|          [Thriller]|111486|Lesson of the Evi...|\n",
        "|[Animation, Child...|  1033|Fox and the Hound...|\n",
        "+--------------------+------+--------------------+\n",
        "```"
      ]
    },
    {
      "cell_type": "code",
      "execution_count": 11,
      "metadata": {
        "id": "ZJ0KqHfPnAfa",
        "colab": {
          "base_uri": "https://localhost:8080/"
        },
        "outputId": "486df2bb-563a-49ec-8b24-8cd6c03c1d6a"
      },
      "outputs": [
        {
          "output_type": "execute_result",
          "data": {
            "text/plain": [
              "9125"
            ]
          },
          "metadata": {},
          "execution_count": 11
        }
      ],
      "source": [
        "#Afficher le nombre de films (fonction count)\n",
        "films.count()\n",
        "#résultat: 9125"
      ]
    },
    {
      "cell_type": "code",
      "execution_count": 12,
      "metadata": {
        "id": "g89xDC4WnAfa",
        "colab": {
          "base_uri": "https://localhost:8080/"
        },
        "outputId": "6e41e3b0-50fa-482c-82b0-2e9776f3b36e"
      },
      "outputs": [
        {
          "output_type": "stream",
          "name": "stdout",
          "text": [
            "+-------+------------------+\n",
            "|summary|                nF|\n",
            "+-------+------------------+\n",
            "|  count|              9125|\n",
            "|   mean|31123.291835616437|\n",
            "| stddev|40782.633603974195|\n",
            "|    min|                 1|\n",
            "|    max|            164979|\n",
            "+-------+------------------+\n",
            "\n"
          ]
        }
      ],
      "source": [
        "#Décrire (donner les statistiques) de la colonne nF de films (fonction describe)\n",
        "films.describe('nF').show()"
      ]
    },
    {
      "cell_type": "markdown",
      "metadata": {
        "id": "cacZWDEtk3SO"
      },
      "source": [
        "Résultat:\n",
        "\n",
        "\n",
        "```\n",
        "+-------+------------------+\n",
        "|summary|                nf|\n",
        "+-------+------------------+\n",
        "|  count|              9125|\n",
        "|   mean|31123.291835616437|\n",
        "| stddev|40782.633603974195|\n",
        "|    min|                 1|\n",
        "|    max|            164979|\n",
        "+-------+------------------+\n",
        "```\n",
        "\n"
      ]
    },
    {
      "cell_type": "code",
      "execution_count": 13,
      "metadata": {
        "id": "iG-rbMJSnAfa",
        "colab": {
          "base_uri": "https://localhost:8080/"
        },
        "outputId": "1fa31ea0-8226-4cc2-8dd9-0b3736aa049d"
      },
      "outputs": [
        {
          "output_type": "stream",
          "name": "stdout",
          "text": [
            "+-------+------------------+--------------------+\n",
            "|summary|                nF|               titre|\n",
            "+-------+------------------+--------------------+\n",
            "|  count|              9125|                9125|\n",
            "|   mean|31123.291835616437|                null|\n",
            "| stddev|40782.633603974195|                null|\n",
            "|    min|                 1|\"\"\"Great Performa...|\n",
            "|    max|            164979| İtirazım Var (2014)|\n",
            "+-------+------------------+--------------------+\n",
            "\n"
          ]
        }
      ],
      "source": [
        "# statistiques par attributs\n",
        "films.describe().show()"
      ]
    },
    {
      "cell_type": "markdown",
      "metadata": {
        "id": "3-C9xF1qkQt_"
      },
      "source": [
        "Résultat:\n",
        "\n",
        "```\n",
        "+-------+------------------+--------------------+\n",
        "|summary|                nF|               titre|\n",
        "+-------+------------------+--------------------+\n",
        "|  count|              9125|                9125|\n",
        "|   mean|31123.291835616437|                null|\n",
        "| stddev|40782.633603974195|                null|\n",
        "|    min|                 1|\"\"\"Great Performa...|\n",
        "|    25%|              2849|                null|\n",
        "|    50%|              6287|                null|\n",
        "|    75%|             56251|                null|\n",
        "|    max|            164979| İtirazım Var (2014)|\n",
        "+-------+------------------+--------------------+\n",
        "```"
      ]
    },
    {
      "cell_type": "markdown",
      "metadata": {
        "id": "6nKS1hEAnAfa"
      },
      "source": [
        "## Requêtes: Interrogation  des films\n",
        "   - afficher 10 titres de films\n",
        "   - afficher les titres de films, les numéros de films incrémentés de 1 et les genres\n",
        "   - afficher les films dont le titre commence par 'Police', les ordonner par nF (fonction startswith)\n",
        "   - créer une nouvelle DataFrame films2 avec un seul genre par film (pour un film avec n genres, il y a n lignes); fonction explode\n",
        "   - afficher deux lignes de films2\n",
        "   - afficher le nombre de genres distinct\n",
        "   - afficher le nombre de films par genre (groupBy)"
      ]
    },
    {
      "cell_type": "code",
      "execution_count": 14,
      "metadata": {
        "id": "MEYGphhMnAfb",
        "colab": {
          "base_uri": "https://localhost:8080/"
        },
        "outputId": "1694b8ea-2259-448d-fde5-829ef9eab55f"
      },
      "outputs": [
        {
          "output_type": "stream",
          "name": "stdout",
          "text": [
            "+--------------------+\n",
            "|               titre|\n",
            "+--------------------+\n",
            "|Prime of Miss Jea...|\n",
            "|Lesson of the Evi...|\n",
            "|Fox and the Hound...|\n",
            "|Sinbad: Legend of...|\n",
            "|       Gloria (1980)|\n",
            "|    Lady Jane (1986)|\n",
            "|4 Months, 3 Weeks...|\n",
            "|Ella Enchanted (2...|\n",
            "|In a World... (2013)|\n",
            "|The Disappearance...|\n",
            "+--------------------+\n",
            "only showing top 10 rows\n",
            "\n"
          ]
        }
      ],
      "source": [
        "# Afficher 10 titres de films\n",
        "films.select('titre').show(10)"
      ]
    },
    {
      "cell_type": "markdown",
      "metadata": {
        "id": "zGzhGiun61cr"
      },
      "source": [
        "\n",
        "```\n",
        "# Résultat:\n",
        "+--------------------+\n",
        "|               titre|\n",
        "+--------------------+\n",
        "|Prime of Miss Jea...|\n",
        "|Lesson of the Evi...|\n",
        "|Fox and the Hound...|\n",
        "|Sinbad: Legend of...|\n",
        "|       Gloria (1980)|\n",
        "|    Lady Jane (1986)|\n",
        "|4 Months, 3 Weeks...|\n",
        "|Ella Enchanted (2...|\n",
        "|In a World... (2013)|\n",
        "|The Disappearance...|\n",
        "+--------------------+\n",
        "only showing top 10 rows\n",
        "```\n",
        "\n"
      ]
    },
    {
      "cell_type": "code",
      "execution_count": 15,
      "metadata": {
        "id": "X6-vi3XCnAfb",
        "colab": {
          "base_uri": "https://localhost:8080/"
        },
        "outputId": "e6e129ff-0cba-4a83-8801-3e0a6eca8d59"
      },
      "outputs": [
        {
          "output_type": "stream",
          "name": "stdout",
          "text": [
            "+--------------------+------+--------------------+------+\n",
            "|                   g|    nF|               titre|nF + 1|\n",
            "+--------------------+------+--------------------+------+\n",
            "|             [Drama]|  8754|Prime of Miss Jea...|  8755|\n",
            "|          [Thriller]|111486|Lesson of the Evi...|111487|\n",
            "|[Animation, Child...|  1033|Fox and the Hound...|  1034|\n",
            "+--------------------+------+--------------------+------+\n",
            "only showing top 3 rows\n",
            "\n"
          ]
        }
      ],
      "source": [
        "#Afficher 3 titres de films, les numéros de films incrémentés de 1 et les genres\n",
        "from pyspark.sql.functions import col\n",
        "films = films.withColumn('nF + 1', col('nF') + 1)\n",
        "\n",
        "films.show(3)"
      ]
    },
    {
      "cell_type": "code",
      "execution_count": 16,
      "metadata": {
        "id": "DBKQqAOVB7Hu",
        "colab": {
          "base_uri": "https://localhost:8080/"
        },
        "outputId": "df51be45-ae74-4c2f-f144-7c69be5dfe61"
      },
      "outputs": [
        {
          "output_type": "stream",
          "name": "stdout",
          "text": [
            "+--------------------+------+--------------------+\n",
            "|               titre|nF + 1|                   g|\n",
            "+--------------------+------+--------------------+\n",
            "|Prime of Miss Jea...|  8755|             [Drama]|\n",
            "|Lesson of the Evi...|111487|          [Thriller]|\n",
            "|Fox and the Hound...|  1034|[Animation, Child...|\n",
            "+--------------------+------+--------------------+\n",
            "only showing top 3 rows\n",
            "\n"
          ]
        }
      ],
      "source": [
        "films.select(['titre', 'nF + 1', 'g']).show(3)"
      ]
    },
    {
      "cell_type": "markdown",
      "metadata": {
        "id": "03omoAcW-Arw"
      },
      "source": [
        "Résultat:\n",
        "\n",
        "\n",
        "```\n",
        "# +--------------------+--------+--------------------+\n",
        "|               titre|(nF + 1)|                   g|\n",
        "+--------------------+--------+--------------------+\n",
        "|Prime of Miss Jea...|    8755|             [Drama]|\n",
        "|Lesson of the Evi...|  111487|          [Thriller]|\n",
        "|Fox and the Hound...|    1034|[Animation, Child...|\n",
        "+--------------------+--------+--------------------+\n",
        "```\n",
        "\n"
      ]
    },
    {
      "cell_type": "code",
      "execution_count": 17,
      "metadata": {
        "id": "HfT3-g5tnAfb",
        "colab": {
          "base_uri": "https://localhost:8080/"
        },
        "outputId": "d22e90f0-687c-4bee-92a8-d574c4a0d23b"
      },
      "outputs": [
        {
          "output_type": "stream",
          "name": "stdout",
          "text": [
            "+--------------------+-----+--------------------+------+\n",
            "|                   g|   nF|               titre|nF + 1|\n",
            "+--------------------+-----+--------------------+------+\n",
            "|     [Comedy, Crime]| 2378|Police Academy (1...|  2379|\n",
            "|     [Comedy, Crime]| 2379|Police Academy 2:...|  2380|\n",
            "|     [Comedy, Crime]| 2380|Police Academy 3:...|  2381|\n",
            "|     [Comedy, Crime]| 2381|Police Academy 4:...|  2382|\n",
            "|     [Comedy, Crime]| 2382|Police Academy 5:...|  2383|\n",
            "|     [Comedy, Crime]| 2383|Police Academy 6:...|  2384|\n",
            "|     [Comedy, Crime]| 8387|Police Academy: M...|  8388|\n",
            "|[Action, Comedy, ...|26547|Police Story (Gin...| 26548|\n",
            "+--------------------+-----+--------------------+------+\n",
            "\n"
          ]
        }
      ],
      "source": [
        "#Afficher les films dont le titre commence par 'Police', les ordonner par nF (filter avec  startswith, orderBy, show)\n",
        "# Filter the DataFrame based on the condition and order by 'nF'\n",
        "result = films.filter(films['titre'].startswith(\"Police\")).orderBy(\"nF\")\n",
        "\n",
        "# Display the result\n",
        "result.show()"
      ]
    },
    {
      "cell_type": "markdown",
      "metadata": {
        "id": "-WBkmsad-PIL"
      },
      "source": [
        "Résultat:\n",
        "```\n",
        "# +---------------+----+--------------------+\n",
        "|              g|  nF|               titre|\n",
        "+---------------+----+--------------------+\n",
        "|[Comedy, Crime]|2378|Police Academy (1...|\n",
        "|[Comedy, Crime]|2379|Police Academy 2:...|\n",
        "|[Comedy, Crime]|2380|Police Academy 3:...|\n",
        "+---------------+----+--------------------+\n",
        "```\n",
        "\n"
      ]
    },
    {
      "cell_type": "code",
      "execution_count": 18,
      "metadata": {
        "id": "PltT_rdKnAfc",
        "colab": {
          "base_uri": "https://localhost:8080/"
        },
        "outputId": "f6d04a0d-14b5-4802-b531-828051c0915a"
      },
      "outputs": [
        {
          "output_type": "stream",
          "name": "stdout",
          "text": [
            "Number of films in the DataFrame without movies with no genre: 9107\n"
          ]
        }
      ],
      "source": [
        "# Pour les films sans genre il y films.g est un array de taille 1 avec '(no genres listed)')\n",
        "# Créer un Dataframe tmp qui contient que les films sans les films sans genre (fonction array_contains) et afficher le nombre de films dans ce Dataframe\n",
        "#Résultat: 9107\n",
        "# Filter the DataFrame to exclude movies with no genre listed\n",
        "tmp = films.filter(~array_contains(col(\"g\"), \"(no genres listed)\"))\n",
        "\n",
        "# Display the number of films in the new DataFrame\n",
        "film_count = tmp.count()\n",
        "print(\"Number of films in the DataFrame without movies with no genre:\", film_count)"
      ]
    },
    {
      "cell_type": "code",
      "execution_count": 19,
      "metadata": {
        "id": "I-nflGdtnAfc",
        "colab": {
          "base_uri": "https://localhost:8080/"
        },
        "outputId": "99634a3b-ea8b-4a56-c573-f48d8f1ec2d6"
      },
      "outputs": [
        {
          "output_type": "stream",
          "name": "stdout",
          "text": [
            "+------+--------------------+---------+\n",
            "|    nF|               titre|    genre|\n",
            "+------+--------------------+---------+\n",
            "|  8754|Prime of Miss Jea...|    Drama|\n",
            "|111486|Lesson of the Evi...| Thriller|\n",
            "|  1033|Fox and the Hound...|Animation|\n",
            "|  1033|Fox and the Hound...| Children|\n",
            "|  1033|Fox and the Hound...|    Drama|\n",
            "|  6536|Sinbad: Legend of...|Adventure|\n",
            "|  6536|Sinbad: Legend of...|Animation|\n",
            "|  6536|Sinbad: Legend of...| Children|\n",
            "|  6536|Sinbad: Legend of...|  Fantasy|\n",
            "|  5179|       Gloria (1980)|    Drama|\n",
            "|  5179|       Gloria (1980)| Thriller|\n",
            "|  6201|    Lady Jane (1986)|    Drama|\n",
            "|  6201|    Lady Jane (1986)|  Romance|\n",
            "| 55069|4 Months, 3 Weeks...|    Drama|\n",
            "|  7380|Ella Enchanted (2...|   Comedy|\n",
            "|  7380|Ella Enchanted (2...|  Fantasy|\n",
            "|  7380|Ella Enchanted (2...|  Romance|\n",
            "|104339|In a World... (2013)|   Comedy|\n",
            "|130580|The Disappearance...|    Drama|\n",
            "|  7832|Thin Man Goes Hom...|   Comedy|\n",
            "+------+--------------------+---------+\n",
            "only showing top 20 rows\n",
            "\n"
          ]
        }
      ],
      "source": [
        "#Créer un nouveau DataFrame films_g à partir de tmp avec un seul genre par film (pour un film avec n genres, il y a n lignes); utiliser la fonction explode\n",
        "from pyspark.sql.functions import explode\n",
        "\n",
        "# Use the 'explode' function to create a new DataFrame with a single genre per film\n",
        "films_g = tmp.select(col(\"nF\"), col(\"titre\"), explode(col(\"g\")).alias(\"genre\"))\n",
        "\n",
        "# Display the new DataFrame\n",
        "films_g.show()"
      ]
    },
    {
      "cell_type": "markdown",
      "metadata": {
        "id": "Rlyq57HC-sFB"
      },
      "source": [
        "Résultat:\n",
        "```\n",
        "# +--------------------+---------+------+\n",
        "|               titre|    genre|    nF|\n",
        "+--------------------+---------+------+\n",
        "|Prime of Miss Jea...|    Drama|  8754|\n",
        "|Lesson of the Evi...| Thriller|111486|\n",
        "|Fox and the Hound...|Animation|  1033|\n",
        "+--------------------+---------+------+\n",
        "```\n"
      ]
    },
    {
      "cell_type": "code",
      "execution_count": 20,
      "metadata": {
        "id": "3hWb6BJAnAfc",
        "colab": {
          "base_uri": "https://localhost:8080/"
        },
        "outputId": "da7f11ae-db74-4265-a60a-3350e9f4c278"
      },
      "outputs": [
        {
          "output_type": "execute_result",
          "data": {
            "text/plain": [
              "19"
            ]
          },
          "metadata": {},
          "execution_count": 20
        }
      ],
      "source": [
        "# Calculer le nombre de genres distinct (distinct et count)\n",
        "films_g.select('genre').distinct().count()\n",
        "#Résultat: 19"
      ]
    },
    {
      "cell_type": "code",
      "execution_count": 21,
      "metadata": {
        "id": "FFo6M7vSnAfc",
        "colab": {
          "base_uri": "https://localhost:8080/"
        },
        "outputId": "89619be0-7caf-465d-a71f-249891d82f02"
      },
      "outputs": [
        {
          "output_type": "stream",
          "name": "stdout",
          "text": [
            "+-----------+-----+\n",
            "|      genre|count|\n",
            "+-----------+-----+\n",
            "|   Children|  583|\n",
            "|    Fantasy|  654|\n",
            "|      Crime| 1100|\n",
            "|     Horror|  877|\n",
            "|      Drama| 4365|\n",
            "|  Adventure| 1117|\n",
            "|     Sci-Fi|  792|\n",
            "|    Musical|  394|\n",
            "|    Western|  168|\n",
            "|       IMAX|  153|\n",
            "|   Thriller| 1729|\n",
            "|  Animation|  447|\n",
            "|    Romance| 1545|\n",
            "|     Comedy| 3315|\n",
            "|    Mystery|  543|\n",
            "|        War|  367|\n",
            "|Documentary|  495|\n",
            "|     Action| 1545|\n",
            "|  Film-Noir|  133|\n",
            "+-----------+-----+\n",
            "\n"
          ]
        }
      ],
      "source": [
        "# Afficher le nombre de films par genre (groupBy et count)\n",
        "\n",
        "films_g.groupBy(films_g.genre).count().show()"
      ]
    },
    {
      "cell_type": "markdown",
      "metadata": {
        "id": "3aW5Z5sY_HEk"
      },
      "source": [
        "Résultat:\n",
        "```\n",
        "# +-----------+-----+\n",
        "|      genre|count|\n",
        "+-----------+-----+\n",
        "|      Crime| 1100|\n",
        "|     Horror|  877|\n",
        "|  Adventure| 1117|\n",
        "|     Sci-Fi|  792|\n",
        "|    Musical|  394|\n",
        "|    Western|  168|\n",
        "|    Romance| 1545|\n",
        "|     Comedy| 3315|\n",
        "|    Mystery|  543|\n",
        "|        War|  367|\n",
        "|Documentary|  495|\n",
        "|   Children|  583|\n",
        "|    Fantasy|  654|\n",
        "|      Drama| 4365|\n",
        "|       IMAX|  153|\n",
        "|   Thriller| 1729|\n",
        "|  Animation|  447|\n",
        "|     Action| 1545|\n",
        "|  Film-Noir|  133|\n",
        "+-----------+-----+\n",
        "```\n",
        "\n"
      ]
    },
    {
      "cell_type": "markdown",
      "metadata": {
        "id": "SjjGdNAe_91Q"
      },
      "source": [
        "## Lire le fichier notesAMJ.csv et créer le DataFrame notes"
      ]
    },
    {
      "cell_type": "code",
      "execution_count": 22,
      "metadata": {
        "id": "ay7DuD2hAVGH",
        "colab": {
          "base_uri": "https://localhost:8080/"
        },
        "outputId": "2ee318e8-8586-4a85-b24e-1b87ae27c534"
      },
      "outputs": [
        {
          "output_type": "stream",
          "name": "stdout",
          "text": [
            "Lecture du fichier:  /content/sample_data//notesAMJ.csv\n",
            "root\n",
            " |-- nU: integer (nullable = true)\n",
            " |-- nF: long (nullable = true)\n",
            " |-- note: float (nullable = true)\n",
            " |-- annee: integer (nullable = true)\n",
            " |-- mois: integer (nullable = true)\n",
            " |-- jour: integer (nullable = true)\n",
            "\n"
          ]
        },
        {
          "output_type": "execute_result",
          "data": {
            "text/plain": [
              "100004"
            ]
          },
          "metadata": {},
          "execution_count": 22
        }
      ],
      "source": [
        "schema = \"\"\"\n",
        "          nU INT,\n",
        "          nF LONG,\n",
        "          note FLOAT,\n",
        "          annee INT,\n",
        "          mois INT,\n",
        "          jour INT\n",
        "        \"\"\"\n",
        "print(\"Lecture du fichier: \", DATASET_DIR+\"/notesAMJ.csv\")\n",
        "notes = spark.read.csv(DATASET_DIR+\"/notesAMJ.csv\", header='true', schema=schema)\n",
        "notes.printSchema()\n",
        "notes=notes.persist()\n",
        "notes.count()\n",
        "#résultat: 100004"
      ]
    },
    {
      "cell_type": "markdown",
      "metadata": {
        "id": "_cTQtEdcnAfd"
      },
      "source": [
        "## Requêtes: Interrogation des notes\n",
        "  - lire le fichier notesAMJ.csv (le fichier contient pour chaque utilisateur les films qu'il a notés\n",
        "      (avec la date (année, mois, jour) de la note))\n",
        "  - afficher le schéma obtenu\n",
        "  - afficher le contenu (3 lignes)\n",
        "  - afficher le nombre d'années distinctes\n",
        "  - afficher le nombre de dates (comprenant année, mois, jour) distinctes\n",
        "  - afficher la note maximale, moyenne et minimale\n",
        "  - grouper les notes par numéro de film\n",
        "  - afficher la note moyenne par film\n",
        "  - pour chaque utilisateur\n",
        "     - afficher son nombre total de notes differentes, la note maximum, minimum et moyenne\n",
        "     - trier le resultat de la requête précédente par le nombre de notes décroissant et le numéro d'utilisateur"
      ]
    },
    {
      "cell_type": "code",
      "execution_count": 23,
      "metadata": {
        "id": "LB93BNtknAfd",
        "colab": {
          "base_uri": "https://localhost:8080/"
        },
        "outputId": "85da2dc7-6442-4e9c-c89a-1ebc8516c14b"
      },
      "outputs": [
        {
          "output_type": "stream",
          "name": "stdout",
          "text": [
            "root\n",
            " |-- nU: integer (nullable = true)\n",
            " |-- nF: long (nullable = true)\n",
            " |-- note: float (nullable = true)\n",
            " |-- annee: integer (nullable = true)\n",
            " |-- mois: integer (nullable = true)\n",
            " |-- jour: integer (nullable = true)\n",
            "\n"
          ]
        }
      ],
      "source": [
        "# Afficher le schéma de notes ainsi que 3 lignes de son contenu\n",
        "notes.printSchema()"
      ]
    },
    {
      "cell_type": "code",
      "execution_count": 24,
      "metadata": {
        "id": "Cc3iXJiQF5-A",
        "colab": {
          "base_uri": "https://localhost:8080/"
        },
        "outputId": "5d88311e-bb6e-4948-8372-7019d0210523"
      },
      "outputs": [
        {
          "output_type": "stream",
          "name": "stdout",
          "text": [
            "+---+-----+----+-----+----+----+\n",
            "| nU|   nF|note|annee|mois|jour|\n",
            "+---+-----+----+-----+----+----+\n",
            "|175|   48| 3.0| 2003|   5|  14|\n",
            "|461| 2001| 3.0| 2004|   8|   8|\n",
            "|547|89881| 4.0| 2011|  10|   8|\n",
            "+---+-----+----+-----+----+----+\n",
            "only showing top 3 rows\n",
            "\n"
          ]
        }
      ],
      "source": [
        "notes.show(3)"
      ]
    },
    {
      "cell_type": "markdown",
      "metadata": {
        "id": "i81tAdwkBNyX"
      },
      "source": [
        "Résultat:\n",
        "```\n",
        "# root\n",
        " |-- nU: integer (nullable = true)\n",
        " |-- nF: long (nullable = true)\n",
        " |-- note: float (nullable = true)\n",
        " |-- annee: integer (nullable = true)\n",
        " |-- mois: integer (nullable = true)\n",
        " |-- jour: integer (nullable = true)\n",
        "\n",
        "+---+-----+----+-----+----+----+\n",
        "|nU |nF   |note|annee|mois|jour|\n",
        "+---+-----+----+-----+----+----+\n",
        "|175|48   |3.0 |2003 |5   |14  |\n",
        "|461|2001 |3.0 |2004 |8   |8   |\n",
        "|547|89881|4.0 |2011 |10  |8   |\n",
        "+---+-----+----+-----+----+----+\n",
        "```\n",
        "\n"
      ]
    },
    {
      "cell_type": "code",
      "execution_count": 25,
      "metadata": {
        "id": "CytbNDlInAfd",
        "colab": {
          "base_uri": "https://localhost:8080/"
        },
        "outputId": "7e1e7c48-7c00-4bd0-f80a-f7303288b46d"
      },
      "outputs": [
        {
          "output_type": "stream",
          "name": "stdout",
          "text": [
            "+------------+\n",
            "|count(annee)|\n",
            "+------------+\n",
            "|          22|\n",
            "+------------+\n",
            "\n",
            "Number of distinct years: None\n"
          ]
        }
      ],
      "source": [
        "#Afficher le nombre d'années distinctes (countDistinct)\n",
        "from pyspark.sql.functions import countDistinct\n",
        "\n",
        "# Count the number of distinct years in the 'annee' column\n",
        "distinct_years_count = notes.agg(countDistinct(\"annee\")).show(1)\n",
        "\n",
        "# Display the result\n",
        "print(\"Number of distinct years:\", distinct_years_count)"
      ]
    },
    {
      "cell_type": "markdown",
      "metadata": {
        "id": "YF7MLSfaBc10"
      },
      "source": [
        "Résultat:\n",
        "```\n",
        "# +---------------------+\n",
        "|count(DISTINCT annee)|\n",
        "+---------------------+\n",
        "|                   22|\n",
        "+---------------------+\n",
        "```\n",
        "\n"
      ]
    },
    {
      "cell_type": "code",
      "execution_count": 26,
      "metadata": {
        "id": "Sr4Hu7vinAfe",
        "colab": {
          "base_uri": "https://localhost:8080/"
        },
        "outputId": "d4f118ff-7430-4002-c8ef-cfb54c69f1bf"
      },
      "outputs": [
        {
          "output_type": "stream",
          "name": "stdout",
          "text": [
            "+------------------------+\n",
            "|count(annee, mois, jour)|\n",
            "+------------------------+\n",
            "|                    3840|\n",
            "+------------------------+\n",
            "\n",
            "Number of distinct dates: None\n"
          ]
        }
      ],
      "source": [
        "#Afficher le nombre de dates distinctes (annee, mois, jour)\n",
        "from pyspark.sql.functions import countDistinct\n",
        "\n",
        "# Count the number of distinct dates considering 'annee', 'mois', and 'jour' columns\n",
        "distinct_dates_count = notes.agg(countDistinct(\"annee\", \"mois\", \"jour\")).show(1)\n",
        "\n",
        "# Display the result\n",
        "print(\"Number of distinct dates:\", distinct_dates_count)"
      ]
    },
    {
      "cell_type": "markdown",
      "metadata": {
        "id": "WpPo_U2gBpxY"
      },
      "source": [
        "Résultat:\n",
        "```\n",
        "# +---------------------------------+\n",
        "|count(DISTINCT annee, mois, jour)|\n",
        "+---------------------------------+\n",
        "|                             3840|\n",
        "+---------------------------------+\n",
        "```\n",
        "\n"
      ]
    },
    {
      "cell_type": "code",
      "execution_count": 27,
      "metadata": {
        "id": "JOzHxN6enAfe",
        "colab": {
          "base_uri": "https://localhost:8080/"
        },
        "outputId": "d847da37-106f-4dfb-9761-0b96e82fa9d6"
      },
      "outputs": [
        {
          "output_type": "stream",
          "name": "stdout",
          "text": [
            "+--------+--------+-----------------+------------------+\n",
            "|Min Note|Max Note|         Avg Note|               std|\n",
            "+--------+--------+-----------------+------------------+\n",
            "|     0.5|     5.0|3.543608255669773|1.0580641091070393|\n",
            "+--------+--------+-----------------+------------------+\n",
            "\n"
          ]
        }
      ],
      "source": [
        "#Afficher la note maximale, moyenne et minimale (min, max, avg)\n",
        "from pyspark.sql.functions import min, max, avg, stddev\n",
        "\n",
        "# Calculate the minimum, maximum, and average values of the 'note' column\n",
        "result = notes.agg(\n",
        "    min(\"note\").alias(\"Min Note\"),\n",
        "    max(\"note\").alias(\"Max Note\"),\n",
        "    avg(\"note\").alias(\"Avg Note\"),\n",
        "    stddev('note').alias(\"std\")\n",
        ")\n",
        "\n",
        "# Display the result\n",
        "result.show()\n"
      ]
    },
    {
      "cell_type": "markdown",
      "metadata": {
        "id": "TGfk_EdEB1Qi"
      },
      "source": [
        "Résultat:\n",
        "```\n",
        "# +---------+---------+-----------------+\n",
        "|min(note)|max(note)|        avg(note)|\n",
        "+---------+---------+-----------------+\n",
        "|      0.5|      5.0|3.543608255669773|\n",
        "+---------+---------+-----------------+\n",
        "```\n",
        "\n"
      ]
    },
    {
      "cell_type": "code",
      "execution_count": 28,
      "metadata": {
        "id": "3zWlLgPFnAfe"
      },
      "outputs": [],
      "source": [
        "#Grouper les notes par numéro de film (groupBy) et stocker le résultat dans un Dataframe notes_groupee\n",
        "notes_groupee = notes.groupBy('nF')\n",
        "#pas de résultat à afficher"
      ]
    },
    {
      "cell_type": "code",
      "execution_count": 29,
      "metadata": {
        "id": "dt96e23lnAfe",
        "colab": {
          "base_uri": "https://localhost:8080/"
        },
        "outputId": "c13f10dd-2e62-43cf-915d-d73330f405e8"
      },
      "outputs": [
        {
          "output_type": "stream",
          "name": "stdout",
          "text": [
            "+-----+------------------+\n",
            "|   nF|         avg(note)|\n",
            "+-----+------------------+\n",
            "|   48|2.9262295081967213|\n",
            "|89881|               4.0|\n",
            "|  208| 2.752212389380531|\n",
            "+-----+------------------+\n",
            "only showing top 3 rows\n",
            "\n"
          ]
        }
      ],
      "source": [
        "#Afficher la note moyenne par film en utilisant le Dataframe notes_groupees (avg)\n",
        "notes_groupee.avg('note').show(3)"
      ]
    },
    {
      "cell_type": "code",
      "execution_count": 30,
      "metadata": {
        "id": "xJgP0kJkiHPB",
        "colab": {
          "base_uri": "https://localhost:8080/"
        },
        "outputId": "3b267e26-7d8c-4ad2-cffe-0bdb7b82c5db"
      },
      "outputs": [
        {
          "output_type": "stream",
          "name": "stdout",
          "text": [
            "+--------------------+---------+\n",
            "|               titre|avg(note)|\n",
            "+--------------------+---------+\n",
            "|Armour of God (Lo...|      5.0|\n",
            "|    Blackrock (1997)|      5.0|\n",
            "|On Any Sunday (1971)|      5.0|\n",
            "|    Endurance (1999)|      5.0|\n",
            "|Funhouse, The (1981)|      5.0|\n",
            "|Red Firecracker, ...|      5.0|\n",
            "|Face in the Crowd...|      5.0|\n",
            "|        Faces (1968)|      5.0|\n",
            "|Good Morning, Bab...|      5.0|\n",
            "|      Caveman (1981)|      5.0|\n",
            "|Circle, The (Daye...|      5.0|\n",
            "|Dream With the Fi...|      5.0|\n",
            "|King Is Alive, Th...|      5.0|\n",
            "|Taste of Cherry (...|      5.0|\n",
            "|Last Dragon, The ...|      5.0|\n",
            "| Bandit Queen (1994)|      5.0|\n",
            "|Above the Law (1988)|      5.0|\n",
            "|Paris, France (1993)|      5.0|\n",
            "|   Masquerade (1988)|      5.0|\n",
            "|Defying Gravity (...|      5.0|\n",
            "+--------------------+---------+\n",
            "only showing top 20 rows\n",
            "\n"
          ]
        }
      ],
      "source": [
        "films_w_notes = films.join(notes, on='nF', how='inner').select('titre', 'nU', 'nF', 'note')\n",
        "films_w_notes = films_w_notes.groupBy('titre').avg('note').orderBy(desc('avg(note)'))\n",
        "films_w_notes.show()"
      ]
    },
    {
      "cell_type": "markdown",
      "metadata": {
        "id": "jJFT0ck8CTFa"
      },
      "source": [
        "Résultat:\n",
        "```\n",
        "# +-----+------------------+\n",
        "|   nF|         avg(note)|\n",
        "+-----+------------------+\n",
        "|   48|2.9262295081967213|\n",
        "|89881|               4.0|\n",
        "|  208| 2.752212389380531|\n",
        "+-----+------------------+\n",
        "```\n",
        "\n"
      ]
    },
    {
      "cell_type": "code",
      "execution_count": 31,
      "metadata": {
        "id": "G7ENC_1TnAfe",
        "colab": {
          "base_uri": "https://localhost:8080/"
        },
        "outputId": "9909a0f7-67a8-4c14-d2f6-0fa04fca3209"
      },
      "outputs": [
        {
          "output_type": "stream",
          "name": "stdout",
          "text": [
            "+---+---------+\n",
            "| nF|avg(note)|\n",
            "+---+---------+\n",
            "| 53|      5.0|\n",
            "|183|      5.0|\n",
            "|301|      5.0|\n",
            "+---+---------+\n",
            "only showing top 3 rows\n",
            "\n"
          ]
        }
      ],
      "source": [
        "#Afficher les notes moyennes par film triées par ordre décroissant de la note (orderBy avec desc)\n",
        "\n",
        "notes_groupee.avg('note').orderBy(desc('avg(note)'), 'nF').show(3)"
      ]
    },
    {
      "cell_type": "markdown",
      "metadata": {
        "id": "GMNsDAT5CmTM"
      },
      "source": [
        "Résultat:\n",
        "```\n",
        "# +---+---------+\n",
        "| nF|avg(note)|\n",
        "+---+---------+\n",
        "| 53|      5.0|\n",
        "|183|      5.0|\n",
        "|301|      5.0|\n",
        "+---+---------+\n",
        "```\n",
        "\n"
      ]
    },
    {
      "cell_type": "code",
      "execution_count": 32,
      "metadata": {
        "id": "BDJBNwRWnAfe"
      },
      "outputs": [],
      "source": [
        "#Creer un dataframe notes_util qui groupe les notes par utilisateur\n",
        "#pas de rsultat à afficher\n",
        "notes_util = notes.groupBy('nU')"
      ]
    },
    {
      "cell_type": "code",
      "execution_count": 33,
      "metadata": {
        "id": "ZIV_wfX6nAff"
      },
      "outputs": [],
      "source": [
        "# Créer un Dataframe tmp qui contient pour chaque utilisateur le nombre total de notes differentes, la la note maximum, minimum et moyenne\n",
        "tmp = notes_util.agg(\n",
        "    countDistinct('note').alias('total'),\n",
        "    max('note').alias('max'),\n",
        "    min('note').alias('min'),\n",
        "    avg('note').alias('moyenne')\n",
        ")\n",
        "\n",
        "# pas de résultat à afficher"
      ]
    },
    {
      "cell_type": "code",
      "execution_count": 34,
      "metadata": {
        "id": "2ocW5zpgnAff",
        "colab": {
          "base_uri": "https://localhost:8080/"
        },
        "outputId": "15d3065f-b02a-4d05-b18d-e9c18ea5ff1f"
      },
      "outputs": [
        {
          "output_type": "stream",
          "name": "stdout",
          "text": [
            "+---+-----+---+---+------------------+\n",
            "| nU|total|max|min|           moyenne|\n",
            "+---+-----+---+---+------------------+\n",
            "| 24|    3|5.0|3.0|3.6666666666666665|\n",
            "| 46|    3|5.0|4.0| 4.948717948717949|\n",
            "| 47|    3|5.0|3.0|3.8684210526315788|\n",
            "+---+-----+---+---+------------------+\n",
            "only showing top 3 rows\n",
            "\n"
          ]
        }
      ],
      "source": [
        "# Trier le Dataframe tmp par le nombre de notes décroissant et le numéro d'utilisateur et afficher le résultat\n",
        "tmp.orderBy(['total', 'nU']).show(3)"
      ]
    },
    {
      "cell_type": "markdown",
      "metadata": {
        "id": "WMghwUgRDFhb"
      },
      "source": [
        "Résultat:\n",
        "```\n",
        "# +---+-----+---+---+------------------+\n",
        "| nU|total|max|min|           moyenne|\n",
        "+---+-----+---+---+------------------+\n",
        "| 15|   10|5.0|0.5|2.6217647058823528|\n",
        "| 17|   10|5.0|0.5| 3.743801652892562|\n",
        "| 20|   10|5.0|0.5|3.2908163265306123|\n",
        "+---+-----+---+---+------------------+\n",
        "```\n",
        "\n"
      ]
    },
    {
      "cell_type": "markdown",
      "metadata": {
        "id": "SlQCtzvOnAff"
      },
      "source": [
        "### **Jointures films et notes**\n",
        "  - créer un DataFrame films_notes qui contient les films avec leur notes (une ligne par note)\n",
        "  - afficher le nombre de notes du film dont le titre contient la chaîne'Pocahontas'\n",
        "  - afficher pour chaque film, son titre, le nombre de notes, sa note moyenne, sa note maximale, sa note minimale\n",
        "  - les titres des films qui ne sont pas notés\n",
        "  - pour chaque genre les utilisateurs qui n'ont noté aucun film de ce genre\n",
        "  - exporter le DataFrame films_notes dans un fichier JSON et afficher le contenu du fichier obtenu\n",
        "  - essayer d'exporter films_notes dans un fichier CSV"
      ]
    },
    {
      "cell_type": "code",
      "execution_count": 35,
      "metadata": {
        "id": "bedvHurxnAff",
        "colab": {
          "base_uri": "https://localhost:8080/"
        },
        "outputId": "dc3f3ef2-8e93-4c17-ab27-6794af544018"
      },
      "outputs": [
        {
          "output_type": "stream",
          "name": "stdout",
          "text": [
            "root\n",
            " |-- g: array (nullable = true)\n",
            " |    |-- element: string (containsNull = true)\n",
            " |-- nF: long (nullable = true)\n",
            " |-- titre: string (nullable = true)\n",
            " |-- nF + 1: long (nullable = true)\n",
            "\n",
            "root\n",
            " |-- nU: integer (nullable = true)\n",
            " |-- nF: long (nullable = true)\n",
            " |-- note: float (nullable = true)\n",
            " |-- annee: integer (nullable = true)\n",
            " |-- mois: integer (nullable = true)\n",
            " |-- jour: integer (nullable = true)\n",
            "\n"
          ]
        }
      ],
      "source": [
        "films.printSchema()\n",
        "notes.printSchema()"
      ]
    },
    {
      "cell_type": "code",
      "execution_count": 36,
      "metadata": {
        "id": "6hszJCNUnAff",
        "colab": {
          "base_uri": "https://localhost:8080/"
        },
        "outputId": "705d8944-84ac-40da-bdda-dae88eb6bd28"
      },
      "outputs": [
        {
          "output_type": "stream",
          "name": "stdout",
          "text": [
            "+---+--------------------+----------------+------+---+----+-----+----+----+\n",
            "| nF|                   g|           titre|nF + 1| nU|note|annee|mois|jour|\n",
            "+---+--------------------+----------------+------+---+----+-----+----+----+\n",
            "|  1|[Adventure, Anima...|Toy Story (1995)|     2|126| 5.0| 1996|   5|  28|\n",
            "|  1|[Adventure, Anima...|Toy Story (1995)|     2|396| 5.0| 1996|   6|  17|\n",
            "|  1|[Adventure, Anima...|Toy Story (1995)|     2|165| 2.5| 2005|   3|  22|\n",
            "|  1|[Adventure, Anima...|Toy Story (1995)|     2|463| 3.0| 2003|   4|   9|\n",
            "|  1|[Adventure, Anima...|Toy Story (1995)|     2|294| 4.0| 2003|   3|   7|\n",
            "|  1|[Adventure, Anima...|Toy Story (1995)|     2|382| 3.5| 2013|   6|  20|\n",
            "|  1|[Adventure, Anima...|Toy Story (1995)|     2|283| 3.0| 2005|   5|   2|\n",
            "|  1|[Adventure, Anima...|Toy Story (1995)|     2|357| 5.0| 1996|   5|  22|\n",
            "|  1|[Adventure, Anima...|Toy Story (1995)|     2| 20| 3.5| 2009|   4|   3|\n",
            "|  1|[Adventure, Anima...|Toy Story (1995)|     2|179| 5.0| 2015|   7|  12|\n",
            "|  1|[Adventure, Anima...|Toy Story (1995)|     2|510| 1.0| 1999|  12|   4|\n",
            "|  1|[Adventure, Anima...|Toy Story (1995)|     2|671| 5.0| 2003|   9|  30|\n",
            "|  1|[Adventure, Anima...|Toy Story (1995)|     2|580| 4.0| 2006|   8|  15|\n",
            "|  1|[Adventure, Anima...|Toy Story (1995)|     2|353| 3.5| 2005|   3|  31|\n",
            "|  1|[Adventure, Anima...|Toy Story (1995)|     2|585| 4.0| 2000|  11|  19|\n",
            "|  1|[Adventure, Anima...|Toy Story (1995)|     2|616| 4.0| 1997|   4|   9|\n",
            "|  1|[Adventure, Anima...|Toy Story (1995)|     2|273| 4.5| 2016|   6|  26|\n",
            "|  1|[Adventure, Anima...|Toy Story (1995)|     2|432| 5.0| 2010|   4|  14|\n",
            "|  1|[Adventure, Anima...|Toy Story (1995)|     2|380| 4.0| 2003|   3|  19|\n",
            "|  1|[Adventure, Anima...|Toy Story (1995)|     2|311| 3.0| 1998|   6|  16|\n",
            "+---+--------------------+----------------+------+---+----+-----+----+----+\n",
            "only showing top 20 rows\n",
            "\n"
          ]
        }
      ],
      "source": [
        "# Créer un DataFrame films_notes qui contient les films avec leur notes (une ligne par note) (join)\n",
        "films_notes = films.join(notes, on='nF', how='inner')\n",
        "\n",
        "films_notes.show(20)"
      ]
    },
    {
      "cell_type": "markdown",
      "metadata": {
        "id": "-iTfyvHtDhPv"
      },
      "source": [
        "Résultat:\n",
        "```\n",
        "# +----+--------------------+--------------------+---+----+-----+----+----+\n",
        "|  nF|                   g|               titre| nU|note|annee|mois|jour|\n",
        "+----+--------------------+--------------------+---+----+-----+----+----+\n",
        "|  48|[Animation, Child...|   Pocahontas (1995)|175| 3.0| 2003|   5|  14|\n",
        "|2001|[Action, Comedy, ...|Lethal Weapon 2 (...|461| 3.0| 2004|   8|   8|\n",
        "+----+--------------------+--------------------+---+----+-----+----+----+\n",
        "```\n",
        "\n"
      ]
    },
    {
      "cell_type": "code",
      "execution_count": 37,
      "metadata": {
        "id": "sSBEkkAUnAfg",
        "colab": {
          "base_uri": "https://localhost:8080/"
        },
        "outputId": "34b5b9c7-6938-410b-8625-656572bef407"
      },
      "outputs": [
        {
          "output_type": "stream",
          "name": "stdout",
          "text": [
            "Number of notes for films with 'Pocahontas' in the title: 61\n"
          ]
        }
      ],
      "source": [
        "#Afficher le nombre de notes du film dont le titre contient la chaîne'Pocahontas' (contains)\n",
        "# Filter the DataFrame to keep rows where the 'titre' column contains the string 'Pocahontas'\n",
        "pocahontas_films = films_notes.filter(col(\"titre\").contains(\"Pocahontas\"))\n",
        "\n",
        "# Count the number of notes for the filtered film\n",
        "number_of_notes = pocahontas_films.count()\n",
        "\n",
        "# Display the result\n",
        "print(\"Number of notes for films with 'Pocahontas' in the title:\", number_of_notes)\n",
        "#résultat: 61"
      ]
    },
    {
      "cell_type": "code",
      "execution_count": 38,
      "metadata": {
        "id": "Cp6JNVjEnAfg",
        "colab": {
          "base_uri": "https://localhost:8080/"
        },
        "outputId": "06f8c092-bab2-4a21-b297-e42726f4a76e"
      },
      "outputs": [
        {
          "output_type": "stream",
          "name": "stdout",
          "text": [
            "+---+--------------------+---------------+--------+--------+------------------+\n",
            "| nF|               titre|Number of Notes|Min Note|Max Note|          Avg Note|\n",
            "+---+--------------------+---------------+--------+--------+------------------+\n",
            "|  1|    Toy Story (1995)|            247|     1.0|     5.0|3.8724696356275303|\n",
            "|  2|      Jumanji (1995)|            107|     1.5|     5.0|3.4018691588785046|\n",
            "|  3|Grumpier Old Men ...|             59|     0.5|     5.0|3.1610169491525424|\n",
            "|  4|Waiting to Exhale...|             13|     1.0|     3.5|2.3846153846153846|\n",
            "|  5|Father of the Bri...|             56|     1.0|     5.0| 3.267857142857143|\n",
            "|  6|         Heat (1995)|            104|     1.0|     5.0|3.8846153846153846|\n",
            "|  7|      Sabrina (1995)|             53|     0.5|     5.0|3.2830188679245285|\n",
            "|  8| Tom and Huck (1995)|              5|     1.0|     5.0|               3.8|\n",
            "|  9| Sudden Death (1995)|             20|     1.0|     5.0|              3.15|\n",
            "| 10|    GoldenEye (1995)|            122|     1.0|     5.0|3.4508196721311477|\n",
            "| 11|American Presiden...|             82|     1.0|     5.0|3.6890243902439024|\n",
            "| 12|Dracula: Dead and...|             18|     1.0|     5.0| 2.861111111111111|\n",
            "| 13|        Balto (1995)|              8|     2.5|     5.0|            3.9375|\n",
            "| 14|        Nixon (1995)|             31|     2.0|     5.0|3.4516129032258065|\n",
            "| 15|Cutthroat Island ...|             11|     1.0|     4.0|2.3181818181818183|\n",
            "| 16|       Casino (1995)|             88|     1.0|     5.0|3.9488636363636362|\n",
            "| 17|Sense and Sensibi...|             86|     1.0|     5.0|3.9244186046511627|\n",
            "| 18|   Four Rooms (1995)|             26|     1.0|     5.0|3.2884615384615383|\n",
            "| 19|Ace Ventura: When...|             92|     0.5|     5.0| 2.597826086956522|\n",
            "| 20|  Money Train (1995)|             13|     1.0|     5.0|2.5384615384615383|\n",
            "+---+--------------------+---------------+--------+--------+------------------+\n",
            "only showing top 20 rows\n",
            "\n"
          ]
        }
      ],
      "source": [
        "# Afficher pour chaque film, son titre, le nombre de notes, sa note moyenne, sa note maximale, sa note minimale (groupBy + agg)\n",
        "# Group the DataFrame by 'nF' (film) and 'titre', and aggregate the number of notes, max, min, and avg notes\n",
        "film_stats = films_notes.groupBy(\"nF\", \"titre\").agg(\n",
        "    count(\"note\").alias(\"Number of Notes\"),\n",
        "    min(\"note\").alias(\"Min Note\"),\n",
        "    max(\"note\").alias(\"Max Note\"),\n",
        "    avg(\"note\").alias(\"Avg Note\")\n",
        ")\n",
        "\n",
        "# Display the resulting DataFrame\n",
        "film_stats.show()\n"
      ]
    },
    {
      "cell_type": "markdown",
      "metadata": {
        "id": "VSMALNilEWGm"
      },
      "source": [
        "Résultat:\n",
        "```\n",
        "# +--------------------+-------+---+---+------------------+\n",
        "|               titre|nbNotes|max|min|           moyenne|\n",
        "+--------------------+-------+---+---+------------------+\n",
        "|    Toy Story (1995)|      9|5.0|1.0|3.8724696356275303|\n",
        "|      Jumanji (1995)|      8|5.0|1.5|3.4018691588785046|\n",
        "|Grumpier Old Men ...|     10|5.0|0.5|3.1610169491525424|\n",
        "+--------------------+-------+---+---+------------------+\n",
        "```\n",
        "\n"
      ]
    },
    {
      "cell_type": "markdown",
      "metadata": {
        "id": "2P54oFKmnAfg"
      },
      "source": [
        "### *Jointures externe et produit Cartesien*"
      ]
    },
    {
      "cell_type": "code",
      "execution_count": 39,
      "metadata": {
        "id": "Ayetr_C7nAfg",
        "colab": {
          "base_uri": "https://localhost:8080/"
        },
        "outputId": "d8214554-f85b-403d-a392-af4bc4ea2b49"
      },
      "outputs": [
        {
          "output_type": "stream",
          "name": "stdout",
          "text": [
            "+--------------------+------+--------------------+------+\n",
            "|                   g|   nF1|               titre|nF + 1|\n",
            "+--------------------+------+--------------------+------+\n",
            "|             [Drama]|  8754|Prime of Miss Jea...|  8755|\n",
            "|          [Thriller]|111486|Lesson of the Evi...|111487|\n",
            "|[Animation, Child...|  1033|Fox and the Hound...|  1034|\n",
            "|[Adventure, Anima...|  6536|Sinbad: Legend of...|  6537|\n",
            "|   [Drama, Thriller]|  5179|       Gloria (1980)|  5180|\n",
            "|    [Drama, Romance]|  6201|    Lady Jane (1986)|  6202|\n",
            "|             [Drama]| 55069|4 Months, 3 Weeks...| 55070|\n",
            "|[Comedy, Fantasy,...|  7380|Ella Enchanted (2...|  7381|\n",
            "|            [Comedy]|104339|In a World... (2013)|104340|\n",
            "|             [Drama]|130580|The Disappearance...|130581|\n",
            "|[Comedy, Crime, M...|  7832|Thin Man Goes Hom...|  7833|\n",
            "|[Comedy, Drama, R...| 56367|         Juno (2007)| 56368|\n",
            "|[Comedy, Horror, ...|149830|Pride and Prejudi...|149831|\n",
            "|[Adventure, Drama...|138208|     The Walk (2015)|138209|\n",
            "|     [Comedy, Crime]|  2382|Police Academy 5:...|  2383|\n",
            "|[Comedy, Drama, R...|  3567|   Bossa Nova (2000)|  3568|\n",
            "|            [Comedy]| 72696|     Old Dogs (2009)| 72697|\n",
            "|            [Horror]|  2754|Deadtime Stories ...|  2755|\n",
            "|[Comedy, Crime, T...| 54331|  You Kill Me (2007)| 54332|\n",
            "|[Adventure, Child...|  2039|      Cheetah (1989)|  2040|\n",
            "+--------------------+------+--------------------+------+\n",
            "only showing top 20 rows\n",
            "\n"
          ]
        }
      ],
      "source": [
        "# Créer un Dataframe f_films qui renomme l'attribut nF de films en nF1 (withColumnRenamed)\n",
        "# Create a new DataFrame with the 'nF' column renamed to 'nF1'\n",
        "f_films = films.withColumnRenamed(\"nF\", \"nF1\")\n",
        "\n",
        "# Display the new DataFrame\n",
        "f_films.show()\n",
        "\n",
        "#pas de résultat à afficher"
      ]
    },
    {
      "cell_type": "code",
      "execution_count": 40,
      "metadata": {
        "id": "KK8I-zNVnAfg",
        "colab": {
          "base_uri": "https://localhost:8080/"
        },
        "outputId": "d4fa51a4-2e7f-4950-b88b-dbfad17c9d03"
      },
      "outputs": [
        {
          "output_type": "stream",
          "name": "stdout",
          "text": [
            "+--------------------+----+--------------------+------+---+----+----+-----+----+----+\n",
            "|                   g| nF1|               titre|nF + 1| nU|  nF|note|annee|mois|jour|\n",
            "+--------------------+----+--------------------+------+---+----+----+-----+----+----+\n",
            "|[Animation, Child...|1033|Fox and the Hound...|  1034|605|1033| 3.0| 2001|   1|  22|\n",
            "|[Animation, Child...|1033|Fox and the Hound...|  1034|185|1033| 3.0| 2001|  10|  19|\n",
            "|[Animation, Child...|1033|Fox and the Hound...|  1034|564|1033| 4.0| 2000|  11|  21|\n",
            "|[Animation, Child...|1033|Fox and the Hound...|  1034|602|1033| 4.0| 1996|   9|  10|\n",
            "|[Animation, Child...|1033|Fox and the Hound...|  1034|514|1033| 4.0| 1997|   1|  22|\n",
            "|[Animation, Child...|1033|Fox and the Hound...|  1034|592|1033| 2.0| 2001|   7|  18|\n",
            "|[Animation, Child...|1033|Fox and the Hound...|  1034|530|1033| 4.0| 1997|  12|  17|\n",
            "|[Animation, Child...|1033|Fox and the Hound...|  1034|289|1033| 4.5| 2012|   2|  11|\n",
            "|[Animation, Child...|1033|Fox and the Hound...|  1034|294|1033| 3.0| 2003|   3|  24|\n",
            "|[Animation, Child...|1033|Fox and the Hound...|  1034| 73|1033| 3.5| 2010|   8|  24|\n",
            "|[Animation, Child...|1033|Fox and the Hound...|  1034|509|1033| 4.5| 2004|   8|  23|\n",
            "|[Animation, Child...|1033|Fox and the Hound...|  1034|603|1033| 3.0| 1997|   7|   8|\n",
            "|[Animation, Child...|1033|Fox and the Hound...|  1034|665|1033| 4.0| 2001|   6|  19|\n",
            "|[Animation, Child...|1033|Fox and the Hound...|  1034|560|1033| 3.5| 2016|   1|  15|\n",
            "|[Animation, Child...|1033|Fox and the Hound...|  1034|595|1033| 3.0| 2000|   8|   2|\n",
            "|[Animation, Child...|1033|Fox and the Hound...|  1034|213|1033| 1.5| 2016|   5|   7|\n",
            "|[Animation, Child...|1033|Fox and the Hound...|  1034|580|1033| 3.5| 2006|   8|  21|\n",
            "|[Animation, Child...|1033|Fox and the Hound...|  1034|188|1033| 3.0| 1996|   8|  26|\n",
            "|[Animation, Child...|1033|Fox and the Hound...|  1034|  4|1033| 5.0| 2000|   2|   7|\n",
            "|[Animation, Child...|1033|Fox and the Hound...|  1034|518|1033| 4.0| 1999|  12|  16|\n",
            "+--------------------+----+--------------------+------+---+----+----+-----+----+----+\n",
            "only showing top 20 rows\n",
            "\n"
          ]
        }
      ],
      "source": [
        "# Joignez la table f_film avec la table notes par une jointure externe gauche (left outer join) qui garde aussi les films sans notes; stocker le résultat dans un Dataframe ff_notes\n",
        "# Perform a left outer join between the f_films DataFrame and the notes DataFrame\n",
        "ff_notes = f_films.join(notes, on=(f_films.nF1 == notes.nF), how=\"left\")\n",
        "\n",
        "# Display the new DataFrame\n",
        "ff_notes.show()\n",
        "\n",
        "#pas de résultat à afficher"
      ]
    },
    {
      "cell_type": "code",
      "execution_count": 41,
      "metadata": {
        "id": "uSL52-7SnAfg",
        "colab": {
          "base_uri": "https://localhost:8080/"
        },
        "outputId": "e8532fe8-a1d5-4f99-802b-ccf90d37e372"
      },
      "outputs": [
        {
          "output_type": "stream",
          "name": "stdout",
          "text": [
            "+--------------------+---+----------------+------+---+---+----+-----+----+----+\n",
            "|                   g|nF1|           titre|nF + 1| nU| nF|note|annee|mois|jour|\n",
            "+--------------------+---+----------------+------+---+---+----+-----+----+----+\n",
            "|[Adventure, Anima...|  1|Toy Story (1995)|     2|126|  1| 5.0| 1996|   5|  28|\n",
            "|[Adventure, Anima...|  1|Toy Story (1995)|     2|396|  1| 5.0| 1996|   6|  17|\n",
            "|[Adventure, Anima...|  1|Toy Story (1995)|     2|165|  1| 2.5| 2005|   3|  22|\n",
            "|[Adventure, Anima...|  1|Toy Story (1995)|     2|463|  1| 3.0| 2003|   4|   9|\n",
            "|[Adventure, Anima...|  1|Toy Story (1995)|     2|294|  1| 4.0| 2003|   3|   7|\n",
            "|[Adventure, Anima...|  1|Toy Story (1995)|     2|382|  1| 3.5| 2013|   6|  20|\n",
            "|[Adventure, Anima...|  1|Toy Story (1995)|     2|283|  1| 3.0| 2005|   5|   2|\n",
            "|[Adventure, Anima...|  1|Toy Story (1995)|     2|357|  1| 5.0| 1996|   5|  22|\n",
            "|[Adventure, Anima...|  1|Toy Story (1995)|     2| 20|  1| 3.5| 2009|   4|   3|\n",
            "|[Adventure, Anima...|  1|Toy Story (1995)|     2|179|  1| 5.0| 2015|   7|  12|\n",
            "|[Adventure, Anima...|  1|Toy Story (1995)|     2|510|  1| 1.0| 1999|  12|   4|\n",
            "|[Adventure, Anima...|  1|Toy Story (1995)|     2|671|  1| 5.0| 2003|   9|  30|\n",
            "|[Adventure, Anima...|  1|Toy Story (1995)|     2|580|  1| 4.0| 2006|   8|  15|\n",
            "|[Adventure, Anima...|  1|Toy Story (1995)|     2|353|  1| 3.5| 2005|   3|  31|\n",
            "|[Adventure, Anima...|  1|Toy Story (1995)|     2|585|  1| 4.0| 2000|  11|  19|\n",
            "|[Adventure, Anima...|  1|Toy Story (1995)|     2|616|  1| 4.0| 1997|   4|   9|\n",
            "|[Adventure, Anima...|  1|Toy Story (1995)|     2|273|  1| 4.5| 2016|   6|  26|\n",
            "|[Adventure, Anima...|  1|Toy Story (1995)|     2|432|  1| 5.0| 2010|   4|  14|\n",
            "|[Adventure, Anima...|  1|Toy Story (1995)|     2|380|  1| 4.0| 2003|   3|  19|\n",
            "|[Adventure, Anima...|  1|Toy Story (1995)|     2|311|  1| 3.0| 1998|   6|  16|\n",
            "+--------------------+---+----------------+------+---+---+----+-----+----+----+\n",
            "only showing top 20 rows\n",
            "\n"
          ]
        }
      ],
      "source": [
        "# Afficher les films sans notes (isNull)\n",
        "ff_notes.filter(~col(\"note\").isNull()).show()"
      ]
    },
    {
      "cell_type": "markdown",
      "metadata": {
        "id": "UYy4M0R1E9UY"
      },
      "source": [
        "Résultat:\n",
        "\n",
        "\n",
        "```\n",
        "# +--------------------+\n",
        "|               titre|\n",
        "+--------------------+\n",
        "|Wild Child, The (...|\n",
        "|Iron Ladies, The ...|\n",
        "|Scarlet Street (1...|\n",
        "+--------------------+\n",
        "```\n",
        "\n"
      ]
    },
    {
      "cell_type": "code",
      "execution_count": 42,
      "metadata": {
        "id": "wa9v32dunAfg",
        "colab": {
          "base_uri": "https://localhost:8080/"
        },
        "outputId": "2df85ed5-73f9-4cae-801c-890906fde4db"
      },
      "outputs": [
        {
          "output_type": "stream",
          "name": "stdout",
          "text": [
            "+------+---+\n",
            "| genre| nU|\n",
            "+------+---+\n",
            "|Action|104|\n",
            "|Action|109|\n",
            "|Action|110|\n",
            "|Action|119|\n",
            "|Action|125|\n",
            "|Action|133|\n",
            "|Action| 14|\n",
            "|Action|141|\n",
            "|Action|143|\n",
            "|Action|144|\n",
            "|Action|147|\n",
            "|Action| 15|\n",
            "|Action|157|\n",
            "|Action|160|\n",
            "|Action|179|\n",
            "|Action|186|\n",
            "|Action|189|\n",
            "|Action|196|\n",
            "|Action|210|\n",
            "|Action|223|\n",
            "+------+---+\n",
            "only showing top 20 rows\n",
            "\n"
          ]
        }
      ],
      "source": [
        "# Pour chaque genre les utilisateurs qui n'ont noté aucun film de ce genre\n",
        "\n",
        "# - créer un premier Dataframe g_u qui contient des couples (genre, nU) où nU a vu des films du genre \"genre\"\n",
        "g_u = films_g.join(notes, on='nF').select('nU', 'genre')\n",
        "\n",
        "# - créer un deuxième Dataframe gu-tous qui contient tous les couples (genre, nU) possibles (crossjoin)\n",
        "distinct_genres = films_g.select(\"genre\").distinct()\n",
        "distinct_users = notes.select(\"nU\").distinct()\n",
        "\n",
        "# Cross join to create all possible pairs\n",
        "gu_tous = distinct_genres.crossJoin(distinct_users)\n",
        "\n",
        "# - utiliser les deux Dataframes pour calculer les couples (genre, nU) où nU n'a pas vu de films du genre \"genre\" (subtract)\n",
        "gu_no_ratings = gu_tous.subtract(g_u)\n",
        "gu_no_ratings.show()"
      ]
    },
    {
      "cell_type": "markdown",
      "metadata": {
        "id": "vEPizYHaFNKn"
      },
      "source": [
        "Résultat:\n",
        "\n",
        "\n",
        "```\n",
        "# +---------+---+\n",
        "|    genre| nU|\n",
        "+---------+---+\n",
        "|Animation| 11|\n",
        "|Animation| 71|\n",
        "|Animation|230|\n",
        "+---------+---+\n",
        "```\n",
        "\n"
      ]
    },
    {
      "cell_type": "markdown",
      "metadata": {
        "id": "LIHqS7canAfh"
      },
      "source": [
        "# **Recommander des films aux utilisateurs**\n",
        "\n",
        "Appliquer le filtrage collaboratif (l'aproche centrée utilisateur) pour recommander à chaque utilisateur des films pas encore visionnés (on suppose qu'un film non noté par un utilisateur n'a pas été visionné par celui-ci). Voir une description de l'approche ici (https://en.wikipedia.org/wiki/Collaborative_filtering, section Memory-based).\n",
        "\n",
        "Nous allons tout d'abord préparer les données à partir des fichiers ratings.csv et movies.csv contenant les films et les notes des utilisateurs pour ces films et construire les strutures DataFrame correpondantes."
      ]
    },
    {
      "cell_type": "markdown",
      "metadata": {
        "id": "qBJgL8JAnAfh"
      },
      "source": [
        "## Préparation des données"
      ]
    },
    {
      "cell_type": "code",
      "execution_count": 43,
      "metadata": {
        "id": "u8xOf8GsnAfh",
        "colab": {
          "base_uri": "https://localhost:8080/"
        },
        "outputId": "f6816bb9-d3ac-4ef5-facc-8f295ea6e72e"
      },
      "outputs": [
        {
          "output_type": "stream",
          "name": "stdout",
          "text": [
            "Lecture du fichier:  /content/sample_data//ratings.csv\n",
            "root\n",
            " |-- nU: integer (nullable = true)\n",
            " |-- nF: integer (nullable = true)\n",
            " |-- note: float (nullable = true)\n",
            " |-- date: integer (nullable = true)\n",
            "\n",
            "+---+----+----+----------+\n",
            "| nU|  nF|note|      date|\n",
            "+---+----+----+----------+\n",
            "|  1|  31| 2.5|1260759144|\n",
            "|  1|1029| 3.0|1260759179|\n",
            "|  1|1061| 3.0|1260759182|\n",
            "+---+----+----+----------+\n",
            "only showing top 3 rows\n",
            "\n"
          ]
        },
        {
          "output_type": "execute_result",
          "data": {
            "text/plain": [
              "100004"
            ]
          },
          "metadata": {},
          "execution_count": 43
        }
      ],
      "source": [
        "from pyspark.sql.types import StructType, StructField, IntegerType, FloatType\n",
        "from pyspark.sql.functions import col\n",
        "\n",
        "# charger le fichier ratings.csv dans un Datframe notes_i\n",
        "# Define the schema\n",
        "schema = StructType([\n",
        "    StructField(\"nU\", IntegerType(), True),\n",
        "    StructField(\"nF\", IntegerType(), True),\n",
        "    StructField(\"note\", FloatType(), True),\n",
        "    StructField(\"date\", IntegerType(), True)\n",
        "])\n",
        "\n",
        "print(\"Lecture du fichier: \", DATASET_DIR+\"/ratings.csv\")\n",
        "\n",
        "# Load the data and skip the header\n",
        "notes_i = spark.read.csv(DATASET_DIR+\"/ratings.csv\", header=True, schema=schema)\n",
        "\n",
        "# Cast the columns to the appropriate data types\n",
        "#notes_i = notes_i.select(\n",
        "#    col(\"userId\").cast(IntegerType()).alias(\"nU\"),\n",
        "#    col(\"movieId\").cast(IntegerType()).alias(\"nF\"),\n",
        "#    col(\"rating\").cast(FloatType()).alias(\"note\"),\n",
        "#    col(\"timestamp\").cast(IntegerType()).alias(\"date\")\n",
        "#)\n",
        "\n",
        "# Persist the DataFrame in memory\n",
        "notes_i = notes_i.persist()\n",
        "\n",
        "# Display the schema and the top 3 rows\n",
        "notes_i.printSchema()\n",
        "notes_i.show(3)\n",
        "notes_i.count()"
      ]
    },
    {
      "cell_type": "markdown",
      "metadata": {
        "id": "NdxRbLqxKWxc"
      },
      "source": [
        "Résultat:\n",
        "```\n",
        "# root\n",
        " |-- nU: integer (nullable = true)\n",
        " |-- nF: integer (nullable = true)\n",
        " |-- note: float (nullable = true)\n",
        " |-- date: integer (nullable = true)\n",
        "\n",
        "+---+----+----+----------+\n",
        "| nU|  nF|note|      date|\n",
        "+---+----+----+----------+\n",
        "|  1|  31| 2.5|1260759144|\n",
        "|  1|1029| 3.0|1260759179|\n",
        "|  1|1061| 3.0|1260759182|\n",
        "+---+----+----+----------+\n",
        "only showing top 3 rows\n",
        "\n",
        "100004\n",
        "```\n",
        "\n"
      ]
    },
    {
      "cell_type": "markdown",
      "metadata": {
        "id": "-4gtadXBnAfh"
      },
      "source": [
        "### *Extraction du jour, du mois et de l'année à partir de la date :*\n",
        "Dans le fichier ratings.csv la date à laquelle un utilisateur a noté un film est au format epoch Unix (timestamp). Nous allons extraire de cette date les informations concernant l'année, le mois et le jour. Cette conversion sera réalisée en deux étapes:\n",
        "- créer 3 fonctions utilisateur, chacune prenant comme paramètre un entier représentant la date à convertir (annotées @udf('integer')) et renvoyant respectivement le jour, le mois (compris entre 1 et   12) et l'année\n",
        "- invoquer ces fonctions à l'aide de la méthode withColumn(). Vérifier que les valeurs obtenues correspondent à celles  continues dans le fichier notesAMJ.csv"
      ]
    },
    {
      "cell_type": "code",
      "execution_count": 44,
      "metadata": {
        "id": "k9KbxKq9nAfi"
      },
      "outputs": [],
      "source": [
        "from datetime import *\n",
        "from pyspark.sql.functions import udf"
      ]
    },
    {
      "cell_type": "code",
      "execution_count": 45,
      "metadata": {
        "id": "aT0_LbWSnAfi"
      },
      "outputs": [],
      "source": [
        "#définir la fonction qui extrait le jour (compris entre 1 et 31) de la date\n",
        "@udf('integer')\n",
        "def getJour(v):\n",
        "    return datetime.utcfromtimestamp(v).day\n",
        "#définir la fonction qui extrait le mois (compris entre 1 et 12) de la date\n",
        "@udf('integer')\n",
        "def getMois(v):\n",
        "    return datetime.utcfromtimestamp(v).month\n",
        "#définir la fonction qui extrait l'année\n",
        "@udf('integer')\n",
        "def getAnnee(v):\n",
        "    return datetime.utcfromtimestamp(v).year"
      ]
    },
    {
      "cell_type": "code",
      "execution_count": 46,
      "metadata": {
        "id": "R-F55w8GnAfi",
        "colab": {
          "base_uri": "https://localhost:8080/"
        },
        "outputId": "7eed606c-f97d-4b82-d687-f52e10b52155"
      },
      "outputs": [
        {
          "output_type": "stream",
          "name": "stdout",
          "text": [
            "+---+----+----+----+----+-----+\n",
            "| nU|  nF|note|jour|mois|annee|\n",
            "+---+----+----+----+----+-----+\n",
            "|  1|  31| 2.5|  14|  12| 2009|\n",
            "|  1|1029| 3.0|  14|  12| 2009|\n",
            "|  1|1061| 3.0|  14|  12| 2009|\n",
            "+---+----+----+----+----+-----+\n",
            "only showing top 3 rows\n",
            "\n",
            "root\n",
            " |-- nU: integer (nullable = true)\n",
            " |-- nF: integer (nullable = true)\n",
            " |-- note: float (nullable = true)\n",
            " |-- jour: integer (nullable = true)\n",
            " |-- mois: integer (nullable = true)\n",
            " |-- annee: integer (nullable = true)\n",
            "\n"
          ]
        }
      ],
      "source": [
        "# appliquer les 3 fonctions précédentes à la colonne date de notes_i pour construire une nouvelle DataFrame notes\n",
        "# ayant comme colonnes nU, nF, note, jour, mois, annee\n",
        "# Replace 'notes_i' with the name of your DataFrame containing the Unix epoch timestamp\n",
        "notes = notes_i.withColumn(\"jour\", getJour(\"date\")) \\\n",
        "               .withColumn(\"mois\", getMois(\"date\")) \\\n",
        "               .withColumn(\"annee\", getAnnee(\"date\"))\n",
        "notes = notes.drop('date')\n",
        "notes.persist() #garder les notes en mémoire\n",
        "notes.count()\n",
        "notes.show(3)\n",
        "notes.printSchema()"
      ]
    },
    {
      "cell_type": "markdown",
      "metadata": {
        "id": "qazRI8-6L2Q4"
      },
      "source": [
        "Résultat:\n",
        "```\n",
        "# +---+----+----+----+----+-----+\n",
        "| nU|  nF|note|jour|mois|annee|\n",
        "+---+----+----+----+----+-----+\n",
        "|  1|  31| 2.5|  14|  12| 2009|\n",
        "|  1|1029| 3.0|  14|  12| 2009|\n",
        "|  1|1061| 3.0|  14|  12| 2009|\n",
        "+---+----+----+----+----+-----+\n",
        "```\n",
        "\n"
      ]
    },
    {
      "cell_type": "code",
      "execution_count": 47,
      "metadata": {
        "id": "sdxlDg8LnAfj",
        "colab": {
          "base_uri": "https://localhost:8080/"
        },
        "outputId": "5ce1d704-a7dc-4ae4-b6d2-cf60241a506b"
      },
      "outputs": [
        {
          "output_type": "stream",
          "name": "stdout",
          "text": [
            "root\n",
            " |-- nF: long (nullable = true)\n",
            " |-- titre: string (nullable = true)\n",
            " |-- g: array (nullable = true)\n",
            " |    |-- element: string (containsNull = true)\n",
            "\n",
            "+---+--------------------+--------------------+\n",
            "| nF|               titre|                   g|\n",
            "+---+--------------------+--------------------+\n",
            "|  1|    Toy Story (1995)|[Adventure, Anima...|\n",
            "|  2|      Jumanji (1995)|[Adventure, Child...|\n",
            "|  3|Grumpier Old Men ...|   [Comedy, Romance]|\n",
            "+---+--------------------+--------------------+\n",
            "only showing top 3 rows\n",
            "\n"
          ]
        }
      ],
      "source": [
        "# Creer un DataFrame films_i pour stocker les films qui se trouvent dans le fichier movies.csv\n",
        "#son schéma est le suivant: nF INT, titre STRING, g STRING\n",
        "films_i = spark.read.json('/content/sample_data/films.json')\n",
        "new_column_order = ['nF', 'titre', 'g']\n",
        "films_i = films_i.select(new_column_order).orderBy(asc('nF'))\n",
        "films_i.persist()\n",
        "films_i.printSchema()\n",
        "films_i.show(3)"
      ]
    },
    {
      "cell_type": "markdown",
      "metadata": {
        "id": "9ZLzKswENSXE"
      },
      "source": [
        "Résultat:\n",
        "\n",
        "\n",
        "```\n",
        "# root\n",
        " |-- nF: integer (nullable = true)\n",
        " |-- titre: string (nullable = true)\n",
        " |-- g: string (nullable = true)\n",
        "\n",
        "+---+--------------------+--------------------+\n",
        "| nF|               titre|                   g|\n",
        "+---+--------------------+--------------------+\n",
        "|  1|    Toy Story (1995)|Adventure|Animati...|\n",
        "|  2|      Jumanji (1995)|Adventure|Childre...|\n",
        "|  3|Grumpier Old Men ...|      Comedy|Romance|\n",
        "+---+--------------------+--------------------+\n",
        "```\n",
        "\n"
      ]
    },
    {
      "cell_type": "markdown",
      "metadata": {
        "id": "zpbi5GuGnAfj"
      },
      "source": [
        "#### **Transformation de la colonne des genres**\n",
        "\n",
        "Les genres de chaque film étant actuellement stockés dans une seule chaîne de caractères, nous allons remplacer\n",
        "cette chaîne par un tableau de chaînes (par exemple, pour un film avec une colonne g contenant 'Comedy, Romance'\n",
        "nous allons obtenir une colonne genres ['Comedy', 'Romance']).\n",
        "- utiliser la fonction split"
      ]
    },
    {
      "cell_type": "code",
      "execution_count": 48,
      "metadata": {
        "id": "lukGHgZtnAfj"
      },
      "outputs": [],
      "source": [
        "#Construire le DataFrame films\n",
        "#résultat: 9125"
      ]
    },
    {
      "cell_type": "markdown",
      "metadata": {
        "id": "aX2adlecnAfj"
      },
      "source": [
        "Le nouveau DataFrame films aura les colonnes nF, titre et genres et sera gardé en mémoire.\n",
        "- afficher le schéma\n",
        "- afficher 3 lignes"
      ]
    },
    {
      "cell_type": "code",
      "execution_count": 49,
      "metadata": {
        "id": "PHsLWvWMnAfj",
        "colab": {
          "base_uri": "https://localhost:8080/"
        },
        "outputId": "d4d50a5d-7d7a-4927-f53f-592bce94cc4d"
      },
      "outputs": [
        {
          "output_type": "stream",
          "name": "stdout",
          "text": [
            "root\n",
            " |-- nF: long (nullable = true)\n",
            " |-- titre: string (nullable = true)\n",
            " |-- g: array (nullable = true)\n",
            " |    |-- element: string (containsNull = true)\n",
            "\n",
            "+---+--------------------+--------------------+\n",
            "| nF|               titre|                   g|\n",
            "+---+--------------------+--------------------+\n",
            "|  1|    Toy Story (1995)|[Adventure, Anima...|\n",
            "|  2|      Jumanji (1995)|[Adventure, Child...|\n",
            "|  3|Grumpier Old Men ...|   [Comedy, Romance]|\n",
            "+---+--------------------+--------------------+\n",
            "only showing top 3 rows\n",
            "\n"
          ]
        },
        {
          "output_type": "execute_result",
          "data": {
            "text/plain": [
              "9125"
            ]
          },
          "metadata": {},
          "execution_count": 49
        }
      ],
      "source": [
        "films = films_i.persist()\n",
        "films.printSchema()\n",
        "films.show(3)\n",
        "films.count()"
      ]
    },
    {
      "cell_type": "markdown",
      "metadata": {
        "id": "eDMXcyQwNuFu"
      },
      "source": [
        "Résultat:\n",
        "```\n",
        "# root\n",
        " |-- nF: integer (nullable = true)\n",
        " |-- titre: string (nullable = true)\n",
        " |-- genres: array (nullable = true)\n",
        " |    |-- element: string (containsNull = true)\n",
        "\n",
        "+---+--------------------+--------------------+\n",
        "| nF|               titre|              genres|\n",
        "+---+--------------------+--------------------+\n",
        "|  1|    Toy Story (1995)|[Adventure, Anima...|\n",
        "|  2|      Jumanji (1995)|[Adventure, Child...|\n",
        "|  3|Grumpier Old Men ...|   [Comedy, Romance]|\n",
        "+---+--------------------+--------------------+\n",
        "```\n",
        "\n"
      ]
    },
    {
      "cell_type": "markdown",
      "metadata": {
        "id": "MYGw8w57nAfj"
      },
      "source": [
        "## **Calcul de recommandation**"
      ]
    },
    {
      "cell_type": "markdown",
      "metadata": {
        "id": "pL2Lx8YnnAfj"
      },
      "source": [
        "### 1.  Calcul de la similarité entre les utilisateurs (similarité Jaccard)\n",
        "\n",
        "Nous allons d'abord calculer pour chaque couple d'utilisateurs une valeur de similarité basée sur les films\n",
        "qu'ils ont notés en commun. Pour un utilisateur u nous avons besoin de connaître l'ensemble v des numéros de\n",
        "films qu'il a notés. La similarité entre les utilisateurs u1 et u2 sera calculée à partir des ensembles de films v1 et v2 correspondants.\n",
        "\n",
        "Similarité Jaccard (voir la description ici: https://en.wikipedia.org/wiki/Jaccard_index):\n",
        " - la similarité entre u1 et u2 est égale au nombre de films notés en commun par u1 et u2 divisé par le nombre total\n",
        "   de films notés par u1 ou u2. Par exemple, si u1 a noté les films f1, f3 et f4 (v1=[f1, f3, f4]) et u2 a noté les      films f3, f4, f5 et f6 (v2=[f3, f4, f5, f6]) leur similarité sera 2/5=0,4 ce qui correspond à la cardinalité de      l'intersection entre v1 et v2 divisée par la cardinalité de leur union).\n",
        "\n",
        "Le calcul de similarité sera effectué en plusieurs étapes:"
      ]
    },
    {
      "cell_type": "markdown",
      "metadata": {
        "id": "xJA-3pz-nAfk",
        "scrolled": true
      },
      "source": [
        "- Étape 1: construire pour chaque utilisateur la liste des films qu'il a notés et les stocker dans le DataFrame liste_films qui aura 2 colonnes: nU et l_films qui contiendra un tableau de numéro de films"
      ]
    },
    {
      "cell_type": "code",
      "execution_count": 50,
      "metadata": {
        "id": "_rYziszPnAfk",
        "colab": {
          "base_uri": "https://localhost:8080/"
        },
        "outputId": "1637d651-c488-4c6b-c203-ac4d54aed1d0"
      },
      "outputs": [
        {
          "output_type": "stream",
          "name": "stdout",
          "text": [
            "root\n",
            " |-- nU: integer (nullable = true)\n",
            " |-- l_films: array (nullable = false)\n",
            " |    |-- element: integer (containsNull = false)\n",
            "\n",
            "+---+--------------------+\n",
            "| nU|             l_films|\n",
            "+---+--------------------+\n",
            "| 12|[253, 529, 538, 6...|\n",
            "| 13|[1, 47, 110, 277,...|\n",
            "+---+--------------------+\n",
            "only showing top 2 rows\n",
            "\n"
          ]
        }
      ],
      "source": [
        "from pyspark.sql import functions as F\n",
        "\n",
        "liste_films = notes.drop('jour', 'mois', 'annee', 'note')\n",
        "\n",
        "liste_films = liste_films.groupby(\"nU\").agg(F.collect_list(\"nF\").alias(\"l_films\"))\n",
        "\n",
        "liste_films.printSchema()\n",
        "liste_films.persist()\n",
        "liste_films.show(2)"
      ]
    },
    {
      "cell_type": "markdown",
      "metadata": {
        "id": "YE6UYnDgOFWm"
      },
      "source": [
        "Résultat:\n",
        "```\n",
        "# root\n",
        " |-- nU: integer (nullable = true)\n",
        " |-- l_films: array (nullable = false)\n",
        " |    |-- element: integer (containsNull = false)\n",
        "\n",
        "+---+--------------------+\n",
        "| nU|             l_films|\n",
        "+---+--------------------+\n",
        "|  1|[31, 1029, 1061, ...|\n",
        "|  2|[10, 17, 39, 47, ...|\n",
        "+---+--------------------+\n",
        "```\n",
        "\n"
      ]
    },
    {
      "cell_type": "markdown",
      "metadata": {
        "id": "XIxDHlQYnAfk"
      },
      "source": [
        "- Étape 2: Construire tous les couples possibles d'utilisateurs avec leur listes de films respectives et les stocker dans le DataFrame couples_u qui aura comme colonnes nU1, nU2, l_films1, l_films2"
      ]
    },
    {
      "cell_type": "code",
      "execution_count": 51,
      "metadata": {
        "id": "SznIqv_XnAfk",
        "colab": {
          "base_uri": "https://localhost:8080/"
        },
        "outputId": "f6cc8bfc-9dea-4fdf-b2c0-1ec3c314400a"
      },
      "outputs": [
        {
          "output_type": "stream",
          "name": "stdout",
          "text": [
            "+---+--------------------+\n",
            "|nU1|            l_films1|\n",
            "+---+--------------------+\n",
            "| 12|[253, 529, 538, 6...|\n",
            "| 13|[1, 47, 110, 277,...|\n",
            "| 14|[594, 1196, 1721,...|\n",
            "+---+--------------------+\n",
            "only showing top 3 rows\n",
            "\n",
            "+---+--------------------+\n",
            "|nU2|            l_films2|\n",
            "+---+--------------------+\n",
            "| 12|[253, 529, 538, 6...|\n",
            "| 13|[1, 47, 110, 277,...|\n",
            "| 14|[594, 1196, 1721,...|\n",
            "+---+--------------------+\n",
            "only showing top 3 rows\n",
            "\n",
            "+---+--------------------+---+--------------------+\n",
            "|nU1|            l_films1|nU2|            l_films2|\n",
            "+---+--------------------+---+--------------------+\n",
            "| 12|[253, 529, 538, 6...| 13|[1, 47, 110, 277,...|\n",
            "| 12|[253, 529, 538, 6...| 14|[594, 1196, 1721,...|\n",
            "| 12|[253, 529, 538, 6...| 18|[5, 6, 7, 9, 14, ...|\n",
            "+---+--------------------+---+--------------------+\n",
            "only showing top 3 rows\n",
            "\n"
          ]
        }
      ],
      "source": [
        "# Construire un DataFrame intermédiaire t1(nU1, l_films1) à partir de liste films en renommant nU->nU1 et\n",
        "# Create t1 and t2 DataFrames\n",
        "t1 = liste_films.select(liste_films.nU.alias('nU1'), liste_films.l_films.alias('l_films1'))\n",
        "t2 = liste_films.select(liste_films.nU.alias('nU2'), liste_films.l_films.alias('l_films2'))\n",
        "\n",
        "# Show the first few rows\n",
        "t1.show(3)\n",
        "t2.show(3)\n",
        "\n",
        "#Construire couples_u(nU1, nU2, l_films1, l_films2) à partir de t1 et t2 (éliminer les couples où nU1=nU2)\n",
        "couples_u = t1.crossJoin(t2).where(t1.nU1 != t2.nU2)\n",
        "couples_u.persist()\n",
        "\n",
        "couples_u.show(3)"
      ]
    },
    {
      "cell_type": "markdown",
      "metadata": {
        "id": "ExahCcSvOeQ5"
      },
      "source": [
        "Résultat:\n",
        "```\n",
        "# +---+--------------------+\n",
        "|nU1|            l_films1|\n",
        "+---+--------------------+\n",
        "|  1|[31, 1029, 1061, ...|\n",
        "|  2|[10, 17, 39, 47, ...|\n",
        "|  3|[60, 110, 247, 26...|\n",
        "+---+--------------------+\n",
        "only showing top 3 rows\n",
        "\n",
        "+---+--------------------+\n",
        "|nU2|            l_films2|\n",
        "+---+--------------------+\n",
        "|  1|[31, 1029, 1061, ...|\n",
        "|  2|[10, 17, 39, 47, ...|\n",
        "|  3|[60, 110, 247, 26...|\n",
        "+---+--------------------+\n",
        "only showing top 3 rows\n",
        "\n",
        "+---+--------------------+---+--------------------+\n",
        "|nU1|            l_films1|nU2|            l_films2|\n",
        "+---+--------------------+---+--------------------+\n",
        "|  1|[31, 1029, 1061, ...|  2|[10, 17, 39, 47, ...|\n",
        "|  1|[31, 1029, 1061, ...|  3|[60, 110, 247, 26...|\n",
        "|  1|[31, 1029, 1061, ...|  4|[10, 34, 112, 141...|\n",
        "+---+--------------------+---+--------------------+\n",
        "```\n",
        "\n"
      ]
    },
    {
      "cell_type": "markdown",
      "metadata": {
        "id": "eFZiAzOknAfk"
      },
      "source": [
        "- Étape 3: Définition d'une fonction utilisateur sim_jaccard qui calcule une valeur de similarité Jaccard à partir de deux listes spécifiées comme paramètres"
      ]
    },
    {
      "cell_type": "code",
      "execution_count": 52,
      "metadata": {
        "id": "fMEutD3BnAfk"
      },
      "outputs": [],
      "source": [
        "@udf('float')\n",
        "def sim_jaccard(l1, l2):\n",
        "    set1=set(l1)\n",
        "    set2=set(l2)\n",
        "    l = len(set1.union(set2))\n",
        "    if (l == 0): return 0\n",
        "    return float(len(set1.intersection(set2)))/len(set1.union(set2))"
      ]
    },
    {
      "cell_type": "markdown",
      "metadata": {
        "id": "0TqQu-OUnAfk"
      },
      "source": [
        "- Étape 4: Calcul de la similarité entre chaque couple d'utilisateurs construit à l'étape 2 en appliquant la fonction de similarité définie à l'étape 3 à leur listes de films respectives. La similarité sera stockée dans le DataFrame sim_j(nU1, nU2, sim)"
      ]
    },
    {
      "cell_type": "code",
      "execution_count": 53,
      "metadata": {
        "id": "SiUImJcvnAfk",
        "colab": {
          "base_uri": "https://localhost:8080/"
        },
        "outputId": "7604c095-4e46-4eb3-a3a6-ebbc2a036af7"
      },
      "outputs": [
        {
          "output_type": "stream",
          "name": "stdout",
          "text": [
            "+---+---+------------+\n",
            "|nU1|nU2|         sim|\n",
            "+---+---+------------+\n",
            "| 12| 13|0.0088495575|\n",
            "| 12| 14|      0.0125|\n",
            "| 12| 18| 0.018181818|\n",
            "+---+---+------------+\n",
            "only showing top 3 rows\n",
            "\n"
          ]
        }
      ],
      "source": [
        "# Construire un DataFrame sim_j(nU1, nU2, sim) en appliquant la méthode withColumn au DataFrame couples_u\n",
        "# Garder uniquement les entrées où sim != 0\n",
        "sim_j = couples_u.withColumn('sim', sim_jaccard(couples_u.l_films1, couples_u.l_films2)).drop('l_films1', 'l_films2')\n",
        "sim_j.persist()\n",
        "sim_j.show(3)"
      ]
    },
    {
      "cell_type": "markdown",
      "metadata": {
        "id": "hm2LX22aOyYz"
      },
      "source": [
        "Résultat:\n",
        "```\n",
        "# +---+---+------------+\n",
        "|nU1|nU2|         sim|\n",
        "+---+---+------------+\n",
        "| 12| 13|0.0088495575|\n",
        "| 12| 14|      0.0125|\n",
        "| 12| 18| 0.018181818|\n",
        "```\n",
        "\n"
      ]
    },
    {
      "cell_type": "markdown",
      "metadata": {
        "id": "Z6Qlci-dnAfk"
      },
      "source": [
        "### 2. **Calcul de scores de recommandation pour les films non notés**"
      ]
    },
    {
      "cell_type": "markdown",
      "metadata": {
        "id": "JpPHssLynAfl"
      },
      "source": [
        "- Préparation du calcul: éliminer les infomations concernant la date"
      ]
    },
    {
      "cell_type": "code",
      "execution_count": 54,
      "metadata": {
        "id": "0oyiSQ2NnAfl",
        "colab": {
          "base_uri": "https://localhost:8080/"
        },
        "outputId": "51864aa0-ca43-4a09-963b-eeda14d99f21"
      },
      "outputs": [
        {
          "output_type": "stream",
          "name": "stdout",
          "text": [
            "+---+----+----+\n",
            "| nU|  nF|note|\n",
            "+---+----+----+\n",
            "|  1|  31| 2.5|\n",
            "|  1|1029| 3.0|\n",
            "|  1|1061| 3.0|\n",
            "+---+----+----+\n",
            "only showing top 3 rows\n",
            "\n"
          ]
        }
      ],
      "source": [
        "u_vu_notes = notes.drop('jour', 'mois', 'annee')\n",
        "#u_vu_notes.persist()\n",
        "u_vu_notes.show(3)"
      ]
    },
    {
      "cell_type": "markdown",
      "metadata": {
        "id": "f0GUYdY4PQCL"
      },
      "source": [
        "Résultat:\n",
        "```\n",
        "# +---+----+----+\n",
        "| nU|  nF|note|\n",
        "+---+----+----+\n",
        "|  1|  31| 2.5|\n",
        "|  1|1029| 3.0|\n",
        "|  1|1061| 3.0|\n",
        "+---+----+----+\n",
        "```\n",
        "\n"
      ]
    },
    {
      "cell_type": "markdown",
      "metadata": {
        "id": "pzMAVOOQnAfl"
      },
      "source": [
        "- Étape 1: Construire tous les couples possibles (nU, nF) et enlever les couples qui se trouvent dans u_vu_notes. Stocker le résultat dans le DataFrame uf_pas_vu(nU, nF) qui sera gardé en mémoire"
      ]
    },
    {
      "cell_type": "code",
      "source": [
        "# Get distinct values of nU and nF\n",
        "distinct_nU = notes.select(\"nU\").distinct()\n",
        "distinct_nF = films.select(\"nF\").distinct()\n",
        "\n",
        "# Generate all possible (nU, nF) pairs\n",
        "all_pairs = distinct_nU.crossJoin(distinct_nF)\n",
        "\n",
        "# Remove pairs that exist in u_vu_notes\n",
        "uf_pas_vu = all_pairs.subtract(u_vu_notes.drop('note'))\n",
        "\n",
        "uf_pas_vu.persist()\n",
        "uf_pas_vu.show(3)"
      ],
      "metadata": {
        "colab": {
          "base_uri": "https://localhost:8080/"
        },
        "id": "m_BFExPAqvzG",
        "outputId": "86256f3d-25cd-4d9e-ffd1-fddcec6344e4"
      },
      "execution_count": 55,
      "outputs": [
        {
          "output_type": "stream",
          "name": "stdout",
          "text": [
            "+---+---+\n",
            "| nU| nF|\n",
            "+---+---+\n",
            "|  1| 24|\n",
            "|  1| 41|\n",
            "|  1| 52|\n",
            "+---+---+\n",
            "only showing top 3 rows\n",
            "\n"
          ]
        }
      ]
    },
    {
      "cell_type": "markdown",
      "metadata": {
        "id": "X4E9cRx-QGMM"
      },
      "source": [
        "Résultat:\n",
        "\n",
        "\n",
        "```\n",
        "# +---+---+\n",
        "| nU| nF|\n",
        "+---+---+\n",
        "|  1|240|\n",
        "|  1|314|\n",
        "|  1|420|\n",
        "+---+---+\n",
        "```\n",
        "\n"
      ]
    },
    {
      "cell_type": "markdown",
      "metadata": {
        "id": "thC9fcZpnAfl"
      },
      "source": [
        "- Etape 2: calculer un DF u_sim_notes qui contient des quintuples (nU1,nU2,nF,note,sim)"
      ]
    },
    {
      "cell_type": "code",
      "source": [
        "# Join on 'nU' and 'nU1'\n",
        "u_sim_notes = sim_j.join(notes, sim_j.nU1 == notes.nU)\n",
        "\n",
        "# Select and rename columns as needed\n",
        "u_sim_notes = u_sim_notes.selectExpr(\"nU1\", \"nU2\", \"nF\", \"note\", \"sim\")\n",
        "\n",
        "u_sim_notes.show(2)\n",
        "u_sim_notes.count()"
      ],
      "metadata": {
        "id": "UomtbE6pIDzN",
        "colab": {
          "base_uri": "https://localhost:8080/"
        },
        "outputId": "541e2e9c-3f7c-480b-8b79-98ff0a588d0e"
      },
      "execution_count": 56,
      "outputs": [
        {
          "output_type": "stream",
          "name": "stdout",
          "text": [
            "+---+---+----+----+------------+\n",
            "|nU1|nU2|  nF|note|         sim|\n",
            "+---+---+----+----+------------+\n",
            "| 12| 13| 253| 3.0|0.0088495575|\n",
            "| 12| 13| 529| 1.0|0.0088495575|\n",
            "| 12| 13| 538| 3.0|0.0088495575|\n",
            "| 12| 13| 608| 2.0|0.0088495575|\n",
            "| 12| 13| 673| 1.0|0.0088495575|\n",
            "| 12| 13| 736| 4.0|0.0088495575|\n",
            "| 12| 13| 737| 3.0|0.0088495575|\n",
            "| 12| 13|1028| 1.0|0.0088495575|\n",
            "| 12| 13|1032| 2.0|0.0088495575|\n",
            "| 12| 13|1077| 3.0|0.0088495575|\n",
            "| 12| 13|1197| 1.0|0.0088495575|\n",
            "| 12| 13|1215| 5.0|0.0088495575|\n",
            "| 12| 13|1220| 5.0|0.0088495575|\n",
            "| 12| 13|1230| 2.0|0.0088495575|\n",
            "| 12| 13|1235| 5.0|0.0088495575|\n",
            "| 12| 13|1295| 1.0|0.0088495575|\n",
            "| 12| 13|1374| 1.0|0.0088495575|\n",
            "| 12| 13|1387| 4.0|0.0088495575|\n",
            "| 12| 13|1639| 2.0|0.0088495575|\n",
            "| 12| 13|1732| 3.0|0.0088495575|\n",
            "+---+---+----+----+------------+\n",
            "only showing top 20 rows\n",
            "\n"
          ]
        }
      ]
    },
    {
      "cell_type": "markdown",
      "metadata": {
        "id": "0yMTigJzQU_c"
      },
      "source": [
        "Résultat:\n",
        "\n",
        "\n",
        "```\n",
        "# +---+---+---+----+------------+\n",
        "|nU1|nU2| nF|note|         sim|\n",
        "+---+---+---+----+------------+\n",
        "| 13| 12|253| 3.0|0.0088495575|\n",
        "| 14| 12|253| 3.0|      0.0125|\n",
        "+---+---+---+----+------------+\n",
        "64389904\n",
        "```\n",
        "\n"
      ]
    },
    {
      "cell_type": "markdown",
      "metadata": {
        "id": "mjWq4t8rnAfl"
      },
      "source": [
        "- Etape 3 : créer un DF u_recom qui étend u_sim_notes avec une colonne recom qui contient le produit sim*note"
      ]
    },
    {
      "cell_type": "code",
      "execution_count": 57,
      "metadata": {
        "id": "Jcy2NNnBnAfl",
        "colab": {
          "base_uri": "https://localhost:8080/"
        },
        "outputId": "bd12686a-ee95-455e-ba82-754372b4340a"
      },
      "outputs": [
        {
          "output_type": "stream",
          "name": "stdout",
          "text": [
            "+---+---+---+----+------------+------------+\n",
            "|nU1|nU2| nF|note|         sim|       recom|\n",
            "+---+---+---+----+------------+------------+\n",
            "| 12| 13|253| 3.0|0.0088495575| 0.026548672|\n",
            "| 12| 13|529| 1.0|0.0088495575|0.0088495575|\n",
            "+---+---+---+----+------------+------------+\n",
            "only showing top 2 rows\n",
            "\n"
          ]
        }
      ],
      "source": [
        "u_recom = u_sim_notes.withColumn('recom', u_sim_notes['sim']*u_sim_notes['note'])\n",
        "\n",
        "u_recom.show(2)"
      ]
    },
    {
      "cell_type": "markdown",
      "metadata": {
        "id": "Hplae8TtQl9x"
      },
      "source": [
        "Résultat:\n",
        "```\n",
        "# +---+---+---+----+------------+-----------+\n",
        "|nU1|nU2| nF|note|         sim|      recom|\n",
        "+---+---+---+----+------------+-----------+\n",
        "| 13| 12|253| 3.0|0.0088495575|0.026548672|\n",
        "| 14| 12|253| 3.0|      0.0125|     0.0375|\n",
        "+---+---+---+----+------------+-----------+\n",
        "```\n",
        "\n"
      ]
    },
    {
      "cell_type": "markdown",
      "metadata": {
        "id": "53ekOzSxnAfl"
      },
      "source": [
        "- Etape 4: créer un DF u_recom2 qui contient les colonnes nU1, nF et avg_rec de avg_rec est la moyennes des scores de recommandation pour nU1 et nF. Afficher le résultat."
      ]
    },
    {
      "cell_type": "code",
      "execution_count": null,
      "metadata": {
        "id": "O-L7DunZnAfm"
      },
      "outputs": [],
      "source": [
        "# Assuming df is your DataFrame\n",
        "avg_recom = u_recom.groupBy('nU1', 'nF').agg(F.avg('recom').alias('avg_rec'))\n",
        "u_recom2 = u_recom.select('nU1', 'nF').join(avg_recom)\n",
        "\n",
        "u_recom2.persist()\n",
        "u_recom2.show(2)\n",
        "u_recom2.count()"
      ]
    },
    {
      "cell_type": "markdown",
      "metadata": {
        "id": "mJVe7t-nQx8r"
      },
      "source": [
        "Résultat:\n",
        "\n",
        "```\n",
        "# +---+---+-----------+\n",
        "|nU1| nF|      recom|\n",
        "+---+---+-----------+\n",
        "| 13|253|0.026548672|\n",
        "| 14|253|     0.0375|\n",
        "+---+---+-----------+\n",
        "6019322\n",
        "```\n",
        "\n"
      ]
    },
    {
      "cell_type": "markdown",
      "metadata": {
        "id": "UHxCrgZgnAfm"
      },
      "source": [
        "- Etape 5: créer un DF u_pas_vu_rec qui contient que les recommandations pour des films pas vus"
      ]
    },
    {
      "cell_type": "code",
      "execution_count": null,
      "metadata": {
        "id": "rbLwPGJHnAfm"
      },
      "outputs": [],
      "source": [
        "u_pas_vu = u_recom2.orderBy(desc('avg_rec'))\n",
        "\n",
        "u_pas_vu.persist()\n",
        "u_pas_vu.show(5)"
      ]
    },
    {
      "cell_type": "markdown",
      "metadata": {
        "id": "1Cjs3nIgREwO"
      },
      "source": [
        "Résultat:\n",
        "```\n",
        "# +---+----+------------------+\n",
        "| nU|  nF|           avg_rec|\n",
        "+---+----+------------------+\n",
        "|514| 966| 1.696969747543335|\n",
        "|562|5828|1.6906474828720093|\n",
        "|461|8504|1.6904267072677612|\n",
        "| 86| 764|1.6736401319503784|\n",
        "|355|5828|  1.66304349899292|\n",
        "+---+----+------------------+\n",
        "only showing top 5 rows\n",
        "```\n",
        "\n"
      ]
    },
    {
      "cell_type": "code",
      "source": [
        "u_pas_vu.orderBy(asc('nU')).show()"
      ],
      "metadata": {
        "id": "rY7gng_mOZJQ"
      },
      "execution_count": null,
      "outputs": []
    }
  ],
  "metadata": {
    "application/vnd.databricks.v1+notebook": {
      "dashboards": [],
      "language": "python",
      "notebookMetadata": {
        "pythonIndentUnit": 2
      },
      "notebookName": "DU MLIA Module 6 TP Jour 1",
      "notebookOrigID": 3659320577673566,
      "widgets": {}
    },
    "colab": {
      "provenance": []
    },
    "kernelspec": {
      "display_name": "Python 3",
      "language": "python",
      "name": "python3"
    },
    "language_info": {
      "codemirror_mode": {
        "name": "ipython",
        "version": 3
      },
      "file_extension": ".py",
      "mimetype": "text/x-python",
      "name": "python",
      "nbconvert_exporter": "python",
      "pygments_lexer": "ipython3",
      "version": "3.7.1"
    }
  },
  "nbformat": 4,
  "nbformat_minor": 0
}